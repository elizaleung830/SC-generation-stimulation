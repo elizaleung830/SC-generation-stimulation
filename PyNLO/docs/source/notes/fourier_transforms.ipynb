{
  "cells": [
    {
      "cell_type": "markdown",
      "source": [
        "# Fourier Transforms"
      ],
      "metadata": {
        "nteract": {
          "transient": {
            "deleting": false
          }
        }
      }
    },
    {
      "cell_type": "markdown",
      "source": [
        "## The Fourier Family"
      ],
      "metadata": {
        "nteract": {
          "transient": {
            "deleting": false
          }
        }
      }
    },
    {
      "cell_type": "markdown",
      "source": [
        "### Fourier Series\n",
        "Due to the orthogonality of sine and cosine functions, [Fourier series](https://mathworld.wolfram.com/FourierSeries.html) can be used to represent arbitrary periodic functions through spectral decomposition:\n",
        "$$\n",
        "\\begin{align}\n",
        "f\\!\\left[t\\right] &= \\sum_{n=-\\infty}^{\\infty} a_n e^{i \\left(2 \\pi \\, t \\, n/\\Delta t\\right)},\n",
        "&\n",
        "a_n &= \\frac{1}{\\Delta t} \\int_{-\\Delta t/2}^{\\Delta t/2} f\\!\\left[t\\right] e^{-i \\left(2 \\pi \\, t \\, n/\\Delta t\\right)} dt\n",
        "\\end{align}\n",
        "$$\n",
        "$$\n",
        "\\begin{gather}\n",
        "\\Delta t = \\text{the period of } f\\!\\left[t\\right]\n",
        "\\end{gather}\n",
        "$$\n",
        "\n",
        "This relationship can alternatively be expressed as follows:\n",
        "$$\n",
        "\\begin{align}\n",
        "f\\!\\left[t\\right] &= \\sum_{n=-\\infty}^{\\infty} F\\!\\left[\\nu_n\\right] e^{i \\left(2 \\pi \\, t \\, \\nu_n \\right)} d\\nu,\n",
        "&\n",
        "F\\!\\left[\\nu_n\\right] &= \\int_{-\\Delta t/2}^{\\Delta t/2} f\\!\\left[t\\right] e^{-i \\left(2 \\pi \\, t \\, \\nu_n\\right)} dt\n",
        "\\end{align}\n",
        "$$\n",
        "$$\n",
        "\\begin{gather}\n",
        "d\\nu = 1/\\Delta t,\n",
        "\\qquad\n",
        "\\nu_n = n \\, d\\nu\n",
        "\\end{gather}\n",
        "$$\n",
        "\n",
        "where we have replaced $a_n$ with $F\\!\\left[\\nu_n\\right]$ and pulled out the normalization constant ($1/\\Delta t$) from the right equation to the left. This form emphasizes that the Fourier series is an integral transform between two continuous functions ($f\\!\\left[t\\right]$ and $F\\!\\left[\\nu\\right]$). The forward and inverse kernels only differ by the sign in the exponential, $\\exp\\left[- i \\left(2 \\pi \\, t \\, \\nu \\right) \\right]$ and $\\exp\\left[+ i \\left(2 \\pi \\, t \\, \\nu \\right) \\right]$.\n"
      ],
      "metadata": {
        "nteract": {
          "transient": {
            "deleting": false
          }
        }
      }
    },
    {
      "cell_type": "markdown",
      "source": [
        "### Discrete Fourier Transforms\n",
        "An important numeric simplification arises due to the [sampling theorem](https://mathworld.wolfram.com/SamplingTheorem.html). A **continuous, periodic** signal can be discretely sampled *without any loss of information* if the sample rate is more than twice the highest frequency in the signal. When this condition holds, the above relationships can be cast as [discrete Fourier transforms](https://mathworld.wolfram.com/DiscreteFourierTransform.html) (DFTs):\n",
        "\n",
        "$$\n",
        "\\begin{align}\n",
        "f\\!\\left[t_m\\right] &= \\sum_{n=-\\lfloor N/2 \\rfloor}^{\\lfloor (N-1)/2 \\rfloor} F\\!\\left[\\nu_n\\right] e^{i \\left(2 \\pi \\ t_m \\ \\nu_n \\right)} d\\nu\n",
        "&\n",
        "F\\!\\left[\\nu_n\\right] &= \\sum_{m=-\\lfloor N/2 \\rfloor}^{\\lfloor (N-1)/2 \\rfloor} f\\!\\left[t_m\\right] e^{-i \\left(2 \\pi \\ t_m \\ \\nu_n\\right)} dt\n",
        "\\end{align}\n",
        "$$\n",
        "$$\n",
        "\\begin{gather}\n",
        "t_m = m \\, dt,\n",
        "\\qquad\n",
        "\\nu_n = n \\, d\\nu \\\\\n",
        "N = \\text{the number of sampled points} \\\\\n",
        "N d\\nu = 1 /dt = \\text{the sample rate}\n",
        "\\end{gather}\n",
        "$$\n",
        "where $\\lfloor ... \\rfloor$ represents the floor function, and the range of the summation indices $m$ and $n$ are chosen so that the summation indices are the same as the coordinate indices. The transform given by the first equation is called the inverse Fourier transform ($\\nu \\to t$) and that given by the second is called the Fourier transform ($t \\to \\nu$).  The definitions require sampling at a discrete set of points, but *these relationships carry no approximations* with respect to the periodic functions $f\\!\\left[t\\right]$ or $F\\!\\left[\\nu\\right]$. Due to the efficient [fast Fourier transform](https://mathworld.wolfram.com/FastFourierTransform.html) (FFT) algorithms, DFTs are preferred when performing Fourier transforms numerically.\n",
        "\n",
        "An interesting side effect of the discrete Fourier transform is that along with the periodicity of the time domain, the representation in the frequency domain becomes periodic as well. The time range $\\pm 1/(2 \\, d\\nu)$ is the periodic time window that corresponds to sampling the frequency domain in steps of $d\\nu$. Similarly, the frequency range $\\pm 1/ (2 \\, dt)$ is the periodic frequency window due to sampling the time domain in steps of $dt$. The frequency $\\nu = 1/ (2 \\, dt)$ is called the [Nyquist frequency](https://mathworld.wolfram.com/NyquistFrequency.html) and is the maximum allowed frequency for a given time-domain step size. Components that are at frequencies greater than the Nyquist frequency will [alias](https://mathworld.wolfram.com/Aliasing.html), or wrap, back onto the primary grid.\n",
        "\n",
        "The above equations represent discrete integrals over **points that are centered on** $t_m$ ($\\nu_n$) **and extend in bins of** $\\pm 0.5 \\, dt$ ($\\pm 0.5 \\, d\\nu$). Thus, the transforms span the entire periodic windows:\n",
        "\n",
        "$$\n",
        "\\begin{align}\n",
        "\\Delta t &= N \\, dt = 1 / d\\nu,\n",
        "&\n",
        "\\Delta \\nu &= N \\, d\\nu = 1/dt\n",
        "\\end{align}\n",
        "$$\n",
        "\n",
        "This is readily seen for grids that contain an odd number of points but requires some more careful consideration when the number of points is even. The minimum coordinate index in that case is $-N/2$, which is exactly at the Nyquist frequency, and the maximum index is at $N/2 - 1$, which is one step size below Nyquist. To complete the window, one must alias the half step down from $-N/2$ to the half step up from $N/2 -1$. This means that for an even number of points the information at the positive Nyquist frequency is aliased down to the negative. While there is enough information to fully represent the sampled points, as predicted by the sampling theorem there is in general not enough to reconstruct the sampled function in its entirety. Thus, a discrete Fourier transform *sampled with an even number of points* is only generally valid *if there is no amplitude at the Nyquist component*. One special exception is the discrete Fourier transform of a purely real function. For this case, due to the complex-conjugate symmetry inherent to the Fourier transform of a real function the positive and negative Nyquist terms are real and equal, so a DFT sampled at the Nyquist frequency will return two times the amplitude of the actual Nyquist components. The full real-valued function can then be reconstructed by taking half of the amplitude of the negative Nyquist component and placing it in a frequency bin at the positive Nyquist component.\n"
      ],
      "metadata": {
        "nteract": {
          "transient": {
            "deleting": false
          }
        }
      }
    },
    {
      "cell_type": "markdown",
      "source": [
        "### Continuous Fourier Transforms\n",
        "The [continuous Fourier transform](https://mathworld.wolfram.com/FourierTransform.html) (FT) is derived by extending the Fourier series' time window to infinity:\n",
        "\n",
        "$$\n",
        "\\begin{gather}\n",
        "d\\nu \\to 0 \\quad \\text{and} \\quad T \\to \\infty\n",
        "\\end{gather}\n",
        "$$\n",
        "$$\n",
        "\\begin{align}\n",
        "f\\!\\left[t\\right] &= \\int_{-\\infty}^{\\infty} F\\!\\left[\\nu\\right] e^{+i \\left(2 \\pi \\ t \\ \\nu\\right)} d\\nu\n",
        "&\n",
        "F\\!\\left[\\nu\\right] &= \\int_{-\\infty}^{\\infty} f\\!\\left[t\\right] e^{-i \\left(2 \\pi \\ t \\ \\nu\\right)} dt\n",
        "\\end{align}\n",
        "$$\n",
        "\n",
        "These elegant relationships are useful for representing the frequency content of arbitrary continuous functions but yield more complicated representations than Fourier series or DFTs when the function of interest is itself periodic.\n"
      ],
      "metadata": {
        "nteract": {
          "transient": {
            "deleting": false
          }
        }
      }
    },
    {
      "cell_type": "markdown",
      "source": [
        "## Useful Relationships\n",
        "The relationships of this section are true for both discrete and continuous Fourier transforms. The following generalized notation will be used going forward:\n",
        "\n",
        "$$\n",
        "\\begin{align}\n",
        "\\text{Fourier Transform:} \\quad & F\\!\\left[\\nu\\right] = \\mathscr{F}\\!\\Bigl[f\\!\\left[t\\right]\\Bigr]\n",
        "\\\\\n",
        "\\text{Inverse Fourier Transform:} \\quad & f\\!\\left[t\\right] = \\mathscr{F}^{-1}\\!\\Bigl[F\\!\\left[\\nu\\right]\\Bigr]\n",
        "\\\\\n",
        "\\text{Summation or Integration:} \\quad & \\int_{-\\infty}^{\\infty} ...\n",
        "\\end{align}\n",
        "$$\n",
        "\n",
        "For the discrete case, the summation is assumed to be across all points up to the Nyquist time or frequency."
      ],
      "metadata": {
        "nteract": {
          "transient": {
            "deleting": false
          }
        }
      }
    },
    {
      "cell_type": "markdown",
      "source": [
        "### Linearity\n",
        "$$\n",
        "\\begin{align}\n",
        "a \\, f\\!\\left[t\\right] + b \\, g\\!\\left[t\\right] &= \\mathscr{F}^{-1}\\!\\Bigl[ a \\, F\\!\\left[\\nu\\right] + b \\, G\\!\\left[\\nu\\right] \\Bigr]\n",
        "&\n",
        "a \\, F\\!\\left[\\nu\\right] + b \\, G\\!\\left[\\nu\\right] &= \\mathscr{F}\\!\\Bigl[ a \\, f\\!\\left[t\\right] + b \\, g\\!\\left[t\\right] \\Bigr]\n",
        "\\end{align}\n",
        "$$"
      ],
      "metadata": {
        "nteract": {
          "transient": {
            "deleting": false
          }
        }
      }
    },
    {
      "cell_type": "markdown",
      "source": [
        "### Shifting and Scaling\n",
        "$$\n",
        "\\begin{align}\n",
        "f\\!\\left[t-t_0\\right] &= \\mathscr{F}^{-1}\\!\\left[F\\!\\left[\\nu\\right] e^{-i \\left(2 \\pi \\, t_0 \\, \\nu\\right)}\\right]\n",
        "&\n",
        "F\\!\\left[\\nu - \\nu_0\\right] &= \\mathscr{F}\\!\\left[f\\!\\left[t\\right] e^{+i \\left(2 \\pi \\, t \\, \\nu_0 \\right)} \\right]\n",
        "\\\\\n",
        "f\\!\\left[a \\, t\\right] &= \\mathscr{F}^{-1}\\!\\left[\\frac{1}{\\left\\vert a \\right\\vert} F\\!\\left[\\nu / a\\right] \\right]\n",
        "&\n",
        "F\\!\\left[a \\, \\nu \\right] &= \\mathscr{F}\\!\\left[\\frac{1}{\\left\\vert a \\right\\vert} f\\!\\left[t / a\\right] \\right]\n",
        "\\end{align}\n",
        "$$"
      ],
      "metadata": {
        "nteract": {
          "transient": {
            "deleting": false
          }
        }
      }
    },
    {
      "cell_type": "markdown",
      "source": [
        "### Derivatives and Integrals\n",
        "$$\n",
        "\\begin{align}\n",
        "\\frac{d^{n}}{dt^{n}} f\\!\\left[t\\right] &= \\mathscr{F}^{-1}\\!\\Bigl[ \\left(+i \\, 2 \\pi \\, \\nu\\right)^{n} F\\!\\left[\\nu\\right] \\Bigr]\n",
        "&\n",
        "\\frac{d^{n}}{d\\nu^{n}} F\\!\\left[\\nu\\right] &= \\mathscr{F}\\!\\Bigl[ \\left(-i \\, 2 \\pi \\, t\\right)^{n} f\\!\\left[t\\right] \\Bigr]\n",
        "\\end{align}\n",
        "$$\n",
        "\n",
        "Positive integer values of $n$ represent derivatives and negative integers represent integrals (antiderivatives). All other values of $n$ represent derivatives and integrals in the realm of fractional calculus."
      ],
      "metadata": {
        "nteract": {
          "transient": {
            "deleting": false
          }
        }
      }
    },
    {
      "cell_type": "markdown",
      "source": [
        "### Convolutions\n",
        "Convolution is defined as:\n",
        "$$\n",
        "\\begin{align}\n",
        "\\left(f * g\\right)\\!\\left[t\\right] &= \\iint_{-\\infty}^{\\infty} f\\!\\left[t_1\\right] g\\!\\left[t_2\\right] \\delta\\!\\left[t - \\left(t_1 + t_2\\right)\\right] dt_1 \\, dt_2\n",
        "\\\\\n",
        "\\left(F * G\\right)\\!\\left[\\nu\\right] &= \\int_{-\\infty}^{\\infty} F\\!\\left[\\nu_1\\right] G\\!\\left[\\nu_2\\right] \\delta\\!\\left[\\nu - \\left(\\nu_1 + \\nu_2\\right)\\right] d\\nu_1 \\, d\\nu_2\n",
        "\\end{align}\n",
        "$$\n",
        "\n",
        "The convolution of two functions in one domain is the product of the Fourier transforms in the other:\n",
        "$$\n",
        "\\begin{align}\n",
        "\\left(f * g\\right)\\!\\left[t\\right] &= \\mathscr{F}^{-1}\\!\\Bigl[ F\\!\\left[\\nu\\right] G\\!\\left[\\nu\\right] \\Bigr]\n",
        "&\n",
        "\\left(F * G\\right)\\!\\left[\\nu\\right] &= \\mathscr{F}\\!\\Bigl[ f\\!\\left[t\\right] g\\!\\left[t\\right] \\Bigr]\n",
        "\\end{align}\n",
        "$$\n",
        "\n",
        "The support of a convolution is the sum of the support of its parts. In order to avoid aliasing when on a discrete grid, the sum of the supports of the functions to be convolved should be less than the range of the gridded time or frequency domains."
      ],
      "metadata": {
        "nteract": {
          "transient": {
            "deleting": false
          }
        }
      }
    },
    {
      "cell_type": "markdown",
      "source": [
        "### Cross-Correlation\n",
        "Cross-correlation is defined as:\n",
        "$$\n",
        "\\begin{align}\n",
        "\\left(f \\star g\\right)\\!\\left[t\\right] &= \\iint_{-\\infty}^{\\infty} \\overline{f}\\!\\left[t_1\\right] g\\!\\left[t_2\\right] \\delta\\!\\left[t + \\left(t_1 - t_2\\right)\\right] dt_1 \\, dt_2\n",
        "\\\\\n",
        "\\left(F \\star G\\right)\\!\\left[\\nu\\right] &= \\int_{-\\infty}^{\\infty} \\overline{F}\\!\\left[\\nu_1\\right] G\\!\\left[\\nu_2\\right] \\delta\\!\\left[\\nu + \\left(\\nu_1 - \\nu_2\\right)\\right] d\\nu_1 \\, d\\nu_2\n",
        "\\end{align}\n",
        "$$\n",
        "where the barred symbols $(\\overline{f}, \\overline{F})$ indicate complex conjugates.\n",
        "\n",
        "The cross-correlation of two functions in one domain is the product of the Fourier transforms in the other domain, with the first function conjugated:\n",
        "$$\n",
        "\\begin{align}\n",
        "\\left(f \\star g\\right)\\!\\left[t\\right] &= \\mathscr{F}^{-1}\\!\\Bigl[ \\overline{F}\\!\\left[\\nu\\right] G\\!\\left[\\nu\\right] \\Bigr]\n",
        "&\n",
        "\\left(F \\star G\\right)\\!\\left[\\nu\\right] &= \\mathscr{F}\\!\\Bigl[ \\overline{f}\\!\\left[t\\right] g\\!\\left[t\\right] \\Bigr]\n",
        "\\end{align}\n",
        "$$"
      ],
      "metadata": {
        "nteract": {
          "transient": {
            "deleting": false
          }
        }
      }
    },
    {
      "cell_type": "markdown",
      "source": [
        "### Normalization\n",
        "$$\n",
        "\\begin{gather}\n",
        "E = \\int_{-\\infty}^{\\infty} \\Bigl\\vert f\\!\\left[t\\right] \\Bigr\\vert^{2} dt = \\int_{-\\infty}^{\\infty} \\Bigl\\vert F\\!\\left[\\nu\\right] \\Bigr\\vert^{2} d\\nu\n",
        "\\end{gather}\n",
        "$$\n",
        "\n",
        "This follows from [Parseval's Theorem](https://mathworld.wolfram.com/ParsevalsTheorem.html) for Fourier series, or equivalently, from [Plancherel's Theorem](https://mathworld.wolfram.com/PlancherelsTheorem.html) for continuous Fourier transforms. In optics, these expressions yield the total energy of a pulse or spectrum."
      ],
      "metadata": {
        "nteract": {
          "transient": {
            "deleting": false
          }
        }
      }
    },
    {
      "cell_type": "markdown",
      "source": [
        "### Real Functions and the Analytic Representation\n",
        "<a id=\"real-analytic\"><a/>\n",
        "If $f\\!\\left[t\\right]$ is real, from the even and odd symmetry of the cosine and sine functions ($e^{i \\omega t} = \\cos\\left[\\omega t\\right] + i \\sin\\left[\\omega t\\right]$), the real and imaginary components of $F\\!\\left[\\nu\\right]$ have even and odd symmetry about the origin, i.e. $F\\!\\left[-\\nu\\right] = \\overline{F}\\!\\left[\\nu\\right]$. This symmetry can be used to simplify the representation of real functions as all information can be reconstructed from either the positive or negative half of the spectrum. One possible simplification takes advantage of the normalization relationship:\n",
        "\n",
        "$$\n",
        "\\begin{align}\n",
        "E &= \\int_{-\\infty}^{\\infty} \\Bigl\\vert f\\!\\left[t\\right] \\Bigr\\vert^{2} dt = \\int_{-\\infty}^{\\infty} \\Bigl\\vert F\\!\\left[\\nu\\right] \\Bigr\\vert^{2} d\\nu\n",
        "\\\\\n",
        "&= 2 \\int_{0}^{\\infty} \\Bigl\\vert F\\!\\left[\\nu\\right] \\Bigr\\vert^{2} d\\nu = \\int_{0}^{\\infty} \\Bigl\\vert \\sqrt{2} \\ F\\!\\left[\\nu\\right] \\Bigr\\vert^{2} d\\nu\n",
        "\\end{align}\n",
        "$$\n",
        "\n",
        "If we replace the quantity in the last absolute value with a single expression, we arrive at what is called an analytic representation:\n",
        "\n",
        "$$\n",
        "\\begin{gather}\n",
        "E = \\int_{-\\infty}^{\\infty} \\Bigl\\vert A\\!\\left[\\nu\\right] \\Bigr\\vert^{2} d\\nu = \\int_{-\\infty}^{\\infty} \\Bigl\\vert a\\!\\left[t\\right] \\Bigr\\vert^{2} dt\n",
        "\\\\\n",
        "A\\!\\left[\\nu\\right] = \\begin{cases}\n",
        "    \\sqrt{2} \\ F\\!\\left[\\nu\\right] & \\text{if $\\nu \\geq 0$} \\\\\n",
        "    0 & \\text{if $\\nu \\lt 0$}\n",
        "\\end{cases}\n",
        "\\\\\n",
        "a\\!\\left[t\\right] = \\mathscr{F}^{-1}\\!\\Bigl[ A\\!\\left[\\nu\\right] \\Bigr]\n",
        "\\qquad\n",
        "A\\!\\left[\\nu\\right] = \\mathscr{F}\\!\\Bigl[ a\\!\\left[t\\right] \\Bigr]\n",
        "\\end{gather}\n",
        "$$\n",
        "\n",
        "Analytic spectra can be defined through other means, but this method in particular preserves the normalization relationship.\n",
        "\n",
        "A further simplification, known as the complex envelope representation, can be made by shifting the analytic spectrum to the origin and discarding points that contain zero amplitude. Since only the support of the analytic spectrum is retained, Fourier transforms and other calculations can be applied more efficiently, i.e. over just a subset of the frequency range required by the equivalent real function:\n",
        "$$\n",
        "\\begin{gather}\n",
        "\\nu^{\\prime} = \\nu - \\nu_0\n",
        "\\\\\n",
        "A\\!\\left[\\nu^{\\prime}\\right] = \\begin{cases}\n",
        "    \\sqrt{2} \\ F\\!\\left[\\nu^{\\prime} + \\nu_0\\right] & \\text{if $\\nu^{\\prime} + \\nu_0 \\geq 0$} \\\\\n",
        "    0 & \\text{if $\\nu^{\\prime} + \\nu_0 \\lt 0$}\n",
        "\\end{cases}\n",
        "\\\\\n",
        "a\\!\\left[t^{\\prime}\\right] = \\mathscr{F}^{-1}\\!\\Bigl[ A\\!\\left[\\nu^{\\prime}\\right] \\Bigr]\n",
        "\\qquad\n",
        "A\\!\\left[\\nu^{\\prime}\\right] = \\mathscr{F}\\!\\Bigl[ a\\!\\left[t^{\\prime}\\right] \\Bigr]\n",
        "\\end{gather}\n",
        "$$"
      ],
      "metadata": {
        "nteract": {
          "transient": {
            "deleting": false
          }
        }
      }
    },
    {
      "cell_type": "markdown",
      "source": [
        "## Numeric Implementation of DFTs\n",
        "Unfortunately, most numeric implementations of DFTs obscure the intuitive aspects of these transforms and so require careful handling. Below are the typical discrete Fourier transform and inverse as defined by popular numeric packages (see [numpy.fft](https://numpy.org/doc/stable/reference/routines.fft.html) or [scipy.fft](https://docs.scipy.org/doc/scipy/tutorial/fft.html)):\n",
        "\n",
        "$$\n",
        "\\begin{align}\n",
        "\\text{ifft:} \\quad & a\\!\\left[t_m\\right] = \\frac{1}{N} \\sum_{n=0}^{N-1} A\\!\\left[\\nu_n\\right] e^{i \\left(2\\pi \\frac{m \\ n}{N}\\right)}\n",
        "\\\\\n",
        "\\text{fft:} \\quad & A\\!\\left[\\nu_n\\right] = \\sum_{m=0}^{N-1} a\\!\\left[t_m\\right] e^{-i \\left(2\\pi \\frac{m \\ n}{N}\\right)}\n",
        "\\end{align}\n",
        "$$\n",
        "\n",
        "- The expression in the exponential can be derived from the definitions given in the previous section by replacing $t_m$ and $\\nu_n$ with their corresponding indexed values and using the relationship $dt \\ d\\nu = 1/N$. This only represents a refactoring of the notation and is a direct result of indexing the time and frequency domains.\n",
        "- The leading $1/N$ in the definition of the ifft is due to the implementation implicitly defining a unit integer time step. With $dt = 1$, the frequency step must be $d\\nu = 1/N$. This breaks the energy normalization of Fourier transforms with arbitrary $dt/d\\nu$ ratios *and requires explicit removal from all ifft operations*.\n",
        "- The shifting of the summation indices' range to strictly positive integers disrupts the monotonic order of the coordinate indices *and must be accounted for whenever using fft or ifft operations*.\n"
      ],
      "metadata": {
        "nteract": {
          "transient": {
            "deleting": false
          }
        }
      }
    },
    {
      "cell_type": "markdown",
      "source": [
        "### fftshift and ifftshift\n",
        "The summation, or array indices range from $0$ to $N-1$, but due to aliasing the effective coordinate indices still range from $-\\lfloor N/2 \\rfloor$ to $\\lfloor(N-1)/2\\rfloor$. The coordinate indices follow the array indices up to the midpoint, but at array index $\\lfloor (N-1)/2 \\rfloor +1$ the coordinate grid aliases to $-\\lfloor N/2 \\rfloor$.  Array indices from $\\lfloor (N-1)/2 \\rfloor +1$ to $N-1$ represent negative time or frequency coordinates.\n",
        "\n",
        "To avoid numeric artifacts or other erroneous results, fft array ordering must be maintained when using fft and ifft functions. To aid in that endeavor, numeric packages contain **fftshift** and **ifftshift** functions which rearrange arrays such that they go from standard fft ordering to arrays with monotonically ordered coordinates and vice versa. In this regard, fftshift is used to translate fft ordering to monotonic ordering, and ifftshift is used to translate monotonic ordering to fft ordering.\n",
        "\n",
        "The operation of fftshift and ifftshift functions are shown in the table below, where indices at the beginning, middle, and end of an array are shown. The first column is the array index, the second is the fft coordinate index, and the last column is the coordinate index after an fftshift operation. Following an fftshift operation with an ifftshift operation restores fft ordering.\n",
        "\n",
        "|array index                | fft coordinate index        | coord. index after fftshift(...) |\n",
        "|---------------------------|-------------------------|----------------------------|\n",
        "| $0$                       | $0$                     | $-\\lfloor N/2\\rfloor$      |\n",
        "| $1$                       | $1$                     | $-\\lfloor N/2\\rfloor+1$    |\n",
        "| $2$                       | $2$                     | $-\\lfloor N/2\\rfloor+2$    |\n",
        "| ...                       | ...                     | ...                        |\n",
        "| $\\lfloor(N-1)/2\\rfloor$   | $\\lfloor(N-1)/2\\rfloor$ | $-1$                       |\n",
        "| $\\lfloor(N-1)/2\\rfloor+1$ | $-\\lfloor N/2\\rfloor$   | $0$                        |\n",
        "| $\\lfloor(N-1)/2\\rfloor+2$ | $-\\lfloor N/2\\rfloor+1$ | $1$                        |\n",
        "| ...                       | ...                     | ...                        |\n",
        "| $N-3$                     | $-3$                    | $\\lfloor(N-1)/2\\rfloor-2$  |\n",
        "| $N-2$                     | $-2$                    | $\\lfloor(N-1)/2\\rfloor-1$  |\n",
        "| $N-1$                     | $-1$                    | $\\lfloor(N-1)/2\\rfloor$    |"
      ],
      "metadata": {
        "nteract": {
          "transient": {
            "deleting": false
          }
        }
      }
    },
    {
      "cell_type": "markdown",
      "source": [
        "### Real DFTs\n",
        "Analytic formulations are useful when representing physical quantities, and interface nicely with complex-valued fft and ifft functions. However, there are times when the real-valued representation can be more efficient or practical, such as when dealing with nonlinear operations. Numeric packages include fft implementations that specifically transform real input and that calculate and return only the positive half of a spectrum. With the help of array indexing operations, these **rfft** and **irfft** operations allow simple translation between analytic and real-valued representations:\n",
        "$$\n",
        "\\begin{align}\n",
        "\\text{irfft:} \\quad & f\\!\\left[t_m\\right] = \\operatorname{irfft}\\!\\left( F\\!\\left[\\nu\\right] N_r d\\nu, \\quad n=N_r \\right)_m\n",
        "\\\\\n",
        "\\text{rfft:} \\quad & F\\!\\left[\\nu_n\\right] = \\operatorname{rfft}\\!\\left( f\\!\\left[t\\right] dt \\right)_n\n",
        "\\end{align}\n",
        "$$\n",
        "$$\n",
        "\\begin{gather}\n",
        "N_r = \\text{the number of sampled points in the time domain}\n",
        "\\\\\n",
        "dt \\, d\\nu = 1 / N_r\n",
        "\\end{gather}\n",
        "$$\n",
        "\n",
        "An important property of these functions is that *the output of a rfft does not have the same number of points as its input*. In general, the frequency domain output array has $N = \\lfloor N_r/2 \\rfloor + 1$ number of points, where $N_r$ is the total number of points in the time domain. This does not pose any complications when using the rfft, but in general *the number of real output points must be explicitly given to the irfft function*. The reduced number of points in the frequency domain has another implication, *the frequency domain output array is always arranged such that the coordinates are in monotonic order*. The time-domain array is still ordered as described in the previous section, but since the rfft only returns the positive side of the spectrum the array ends before the coordinates have aliased. The slight caveat to this is that the Nyquist frequency (when reached) is considered positive instead of negative.\n",
        "\n",
        "When transforming between real and analytic representations of a spectrum the first and last points need to be adjusted due to the discrete nature of the frequency bins:\n",
        "$$\n",
        "\\begin{gather}\n",
        "A\\!\\left[\\nu_n\\right] = \\sqrt{2}\n",
        "\\begin{cases}\n",
        "\\frac{1}{\\sqrt{2}} F\\!\\left[\\nu_n\\right] &\\text{if $\\nu_n = 0$}\n",
        "\\\\ \\\\\n",
        "\\frac{1}{2} F\\!\\left[\\nu_n\\right] &\\text{if $\\nu_n = \\lfloor N_r/2 \\rfloor d\\nu$ and } N_r \\text{ is even}\n",
        "\\\\ \\\\\n",
        "F\\!\\left[\\nu_n\\right] &\\text{all other cases}\n",
        "\\end{cases}\n",
        "\\end{gather}\n",
        "$$\n",
        "The first condition states that the amplitude at the origin of the analytic array is unchanged with respect to the real-valued representation. The frequency bin at the origin extends over both positive and negative frequencies regardless of the representation. To preserve the integrated power, the power in that bin must not change. When the number of points in the real representation is even, the last bin contains information aliased from both the positive and negative Nyquist frequencies. The second condition states that the power is only preserved if one Nyquist component is considered, only half of the combined amplitude can be retained. In addition to the amplitude renormalization, the first and last point of the rfft array must be complex-conjugate symmetric about the origin. This means that the amplitude at the origin must be real, and, if the number of points in the real representation is even, the amplitude at the Nyquist frequency must also be real.\n",
        "\n",
        "Due to the added complexity of keeping track of those details, it is easier to just not include the origin or the Nyquist frequency in the analytic array, i.e. to have both the origin and the Nyquist frequency of the real-valued representation be configured to have zero amplitude. This is easily accomplished by starting the frequency grid of the analytic representation away from the origin and using an odd number of points if the sampling is Nyquist limited. With that restriction, transformations from one representation to the other need only use a uniform $\\sqrt{2}$ scale factor at all points.\n"
      ],
      "metadata": {
        "nteract": {
          "transient": {
            "deleting": false
          }
        }
      }
    },
    {
      "cell_type": "markdown",
      "source": [
        "### FFT Cookbook\n",
        "Use the following set of rules to navigate the normalization and array ordering quirks of fft and ifft functions."
      ],
      "metadata": {
        "nteract": {
          "transient": {
            "deleting": false
          }
        }
      }
    },
    {
      "cell_type": "markdown",
      "source": [
        "#### Analytic Representation\n",
        "Given the total number of points $N$, define the time and frequency step sizes $dt$ and $d\\nu$:\n",
        "$$\n",
        "\\begin{gather}\n",
        "dt \\, d\\nu = 1/N\n",
        "\\end{gather}\n",
        "$$\n",
        "\n",
        "The full time and frequency grids $t_m$ and $\\nu_n$ may then be constructed using the array indices $m$ and $n$ ranging from $0$ to $N-1$. The frequency domain may have an optional offset $\\nu_0$:\n",
        "$$\n",
        "\\begin{gather}\n",
        "t_m = (m - \\lfloor N/2 \\rfloor) \\, dt\n",
        "\\qquad\n",
        "\\nu_n = \\nu_0 + (n - \\lfloor N/2 \\rfloor) \\, d\\nu\n",
        "\\end{gather}\n",
        "$$\n",
        "\n",
        "If planning to transform between the analytic and real-valued representations, $\\nu_0$ must be integer divisible by $d\\nu$ and $\\nu_n$ should be greater than $0$ at all points."
      ],
      "metadata": {
        "nteract": {
          "transient": {
            "deleting": false
          }
        }
      }
    },
    {
      "cell_type": "markdown",
      "source": [
        "#### Real-Valued Representation\n",
        "The coordinate grids for the associated real-valued representation ${t_r}_m$ and ${\\nu_r}_n$ use array index $m$ ranging from $0$ to $N_r-1$ and array index $n$ ranging from $0$ to $\\lfloor N_r/2 \\rfloor$. Choose the total number of points $N_r$ to allow transforming from the analytic representation without aliasing:\n",
        "$$\n",
        "\\begin{gather}\n",
        "dt_r \\, d\\nu = 1/N_r\n",
        "\\\\\n",
        "{t_r}_m = (m - \\lfloor N_r/2 \\rfloor) \\, dt_r\n",
        "\\qquad\n",
        "{\\nu_r}_n = n \\, d\\nu\n",
        "\\end{gather}\n",
        "$$"
      ],
      "metadata": {
        "nteract": {
          "transient": {
            "deleting": false
          }
        }
      }
    },
    {
      "cell_type": "markdown",
      "source": [
        "#### Array Ordering\n",
        "There are two alternate paths that ensure fft and ifft functions always receive the correct ordering and that the ordering of the coordinate grids and amplitude arrays are always aligned. The first is to order all arrays such that the coordinate grids are in a monotonic order and then wrap calls to fft or ifft with ifftshift and fftshift operations. The second is to order all arrays in fft order and then only use fftshift operations when one wants to display arrays with monotonically ordered coordinate arrays.\n",
        "\n",
        "##### Monotonic Order:\n",
        "\n",
        "- Keep the time and frequency grids as defined above.\n",
        "- Construct amplitude arrays $a\\left[t\\right]_m$ and $A\\left[\\nu\\right]_n$ using the monotonic order of the coordinate arrays.\n",
        "- Transform between the frequency-domain analytic and real-valued representations using the monotonic order of the coordinate arrays:\n",
        "$$\n",
        "\\begin{gather}\n",
        "F\\left[\\nu_r\\right]_n =\n",
        "\\begin{cases}\n",
        "\\frac{1}{\\sqrt{2}} A\\left[\\nu_r\\right]_n &\\text{if ${\\nu_r}_n \\in \\nu$}\n",
        "\\\\\n",
        "0 &\\text{all other cases}\n",
        "\\end{cases}\n",
        "\\end{gather}\n",
        "$$\n",
        "- Nest all calls to fft and ifft between fftshift and ifftshift. Include normalization factors $dt$ and $N d\\nu$:\n",
        "$$\n",
        "\\begin{alignat}{4}\n",
        "&\\text{ifft:} & a\\left[t\\right]_m &= \\operatorname{fftshift}\\!\\left(\\operatorname{ifft}\\!\\left(\\operatorname{ifftshift}\\!\\left( A\\!\\left[\\nu\\right] N d\\nu \\right)\\right)\\right)_m\n",
        "\\\\\n",
        "&\\text{fft:} & A\\left[\\nu\\right]_n &= \\operatorname{fftshift}\\!\\left(\\operatorname{fft}\\!\\left(\\operatorname{ifftshift}\\!\\left( a\\!\\left[t\\right] dt \\right)\\right)\\right)_n\n",
        "\\\\\n",
        "&\\text{irfft:} & f\\left[t_r\\right]_m &= \\operatorname{fftshift}\\!\\left(\\operatorname{irfft}\\!\\left( F\\!\\left[\\nu_r\\right] N_r d\\nu , \\quad n=N_r\\right)\\right)_m\n",
        "\\\\\n",
        "&\\text{rfft:} & F\\left[\\nu_r\\right]_n &= \\operatorname{rfft}\\!\\left(\\operatorname{ifftshift}\\!\\left( f\\!\\left[t_r\\right] dt_r \\right)\\right)_n\n",
        "\\end{alignat}\n",
        "$$\n",
        "- Display the coordinate and amplitude arrays without any other modification.\n",
        "\n",
        "##### FFT Order:\n",
        "\n",
        "- Store the time and frequency grids in standard fft order:\n",
        "$$\n",
        "\\begin{align}\n",
        "t_m &= \\operatorname{ifftshift}\\!\\left(t\\right)_m\n",
        "&\n",
        "\\nu_n &= \\operatorname{ifftshift}\\!\\left(\\nu\\right)_n\n",
        "\\\\\n",
        "{t_r}_m &= \\operatorname{ifftshift}\\!\\left(t_r\\right)_m\n",
        "&\n",
        "{\\nu_r}_n &= \\text{as defined above}\n",
        "\\end{align}\n",
        "$$\n",
        "- Construct amplitude arrays $a\\left[t\\right]_m$ and $A\\left[\\nu\\right]_n$ using the fft order of the coordinate arrays.\n",
        "- Transform between the frequency-domain analytic and real-valued representations after an fftshift operation on the analytic array:\n",
        "$$\n",
        "\\begin{equation}\n",
        "F\\left[\\nu_r\\right]_n =\n",
        "\\begin{cases}\n",
        "\\frac{1}{\\sqrt{2}} \\operatorname{fftshift}\\!\\left(A\\!\\left[\\nu_r\\right]\\right)_n &\\text{if ${\\nu_r}_n \\in \\nu$} \\\\\n",
        "0 &\\text{all other cases}\n",
        "\\end{cases}\n",
        "\\end{equation}\n",
        "$$\n",
        "- Call fft and ifft without any fftshift or ifftshift. Include normalization factors $dt$ and $N d\\nu$:\n",
        "$$\n",
        "\\begin{alignat}{4}\n",
        "&\\text{ifft:} & a\\left[t\\right]_m &= \\operatorname{ifft}\\!\\left( A\\!\\left[\\nu\\right] N d\\nu \\right)_m\n",
        "\\\\\n",
        "&\\text{fft:} & A\\left[\\nu\\right]_n &= \\operatorname{fft}\\!\\left( a\\!\\left[t\\right] dt \\right)_n\n",
        "\\\\\n",
        "&\\text{irfft:} & f\\left[t_r\\right]_m &= \\operatorname{irfft}\\!\\left( F\\!\\left[\\nu_r\\right] N_r d\\nu, \\quad n=N_r\\right)_m\n",
        "\\\\\n",
        "&\\text{rfft:} & F\\left[\\nu_r\\right]_n &= \\operatorname{rfft}\\!\\left( f\\!\\left[t_r\\right] dt_r \\right)_n\n",
        "\\end{alignat}\n",
        "$$\n",
        "- Display the coordinate and amplitude arrays after applying fftshift."
      ],
      "metadata": {
        "nteract": {
          "transient": {
            "deleting": false
          }
        }
      }
    }
  ],
  "metadata": {
    "kernel_info": {
      "name": "python3"
    },
    "language_info": {
      "name": "python",
      "version": "3.11.0",
      "mimetype": "text/x-python",
      "codemirror_mode": {
        "name": "ipython",
        "version": 3
      },
      "pygments_lexer": "ipython3",
      "nbconvert_exporter": "python",
      "file_extension": ".py"
    },
    "kernelspec": {
      "argv": [
        "C:/Users/Connor/Anaconda3\\python.exe",
        "-m",
        "ipykernel_launcher",
        "-f",
        "{connection_file}"
      ],
      "display_name": "Python 3",
      "language": "python",
      "name": "python3"
    },
    "nteract": {
      "version": "0.28.0"
    }
  },
  "nbformat": 4,
  "nbformat_minor": 0
}