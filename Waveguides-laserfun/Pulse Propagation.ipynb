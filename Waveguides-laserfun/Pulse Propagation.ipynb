{
 "cells": [
  {
   "cell_type": "code",
   "execution_count": 1,
   "id": "2d2ebf28",
   "metadata": {
    "ExecuteTime": {
     "end_time": "2023-12-22T02:26:26.954592Z",
     "start_time": "2023-12-22T02:22:41.139772100Z"
    }
   },
   "outputs": [
    {
     "ename": "KeyboardInterrupt",
     "evalue": "",
     "output_type": "error",
     "traceback": [
      "\u001B[1;31m---------------------------------------------------------------------------\u001B[0m",
      "\u001B[1;31mKeyboardInterrupt\u001B[0m                         Traceback (most recent call last)",
      "Cell \u001B[1;32mIn[1], line 30\u001B[0m\n\u001B[0;32m     27\u001B[0m Steep \u001B[38;5;241m=\u001B[39m \u001B[38;5;28;01mTrue\u001B[39;00m     \u001B[38;5;66;03m# Enable self steepening?\u001B[39;00m\n\u001B[0;32m     29\u001B[0m \u001B[38;5;66;03m# create the pulse\u001B[39;00m\n\u001B[1;32m---> 30\u001B[0m pulse \u001B[38;5;241m=\u001B[39m \u001B[43mlf\u001B[49m\u001B[38;5;241;43m.\u001B[39;49m\u001B[43mPulse\u001B[49m\u001B[43m(\u001B[49m\u001B[43mpulse_type\u001B[49m\u001B[38;5;241;43m=\u001B[39;49m\u001B[38;5;124;43m'\u001B[39;49m\u001B[38;5;124;43msech\u001B[39;49m\u001B[38;5;124;43m'\u001B[39;49m\u001B[43m,\u001B[49m\u001B[43m \u001B[49m\u001B[43mfwhm_ps\u001B[49m\u001B[38;5;241;43m=\u001B[39;49m\u001B[43mFWHM\u001B[49m\u001B[43m,\u001B[49m\u001B[43m \u001B[49m\u001B[43mcenter_wavelength_nm\u001B[49m\u001B[38;5;241;43m=\u001B[39;49m\u001B[43mpulseWL\u001B[49m\u001B[43m,\u001B[49m\n\u001B[0;32m     31\u001B[0m \u001B[43m                 \u001B[49m\u001B[43mtime_window_ps\u001B[49m\u001B[38;5;241;43m=\u001B[39;49m\u001B[43mWindow\u001B[49m\u001B[43m,\u001B[49m\u001B[43m \u001B[49m\u001B[43mGDD\u001B[49m\u001B[38;5;241;43m=\u001B[39;49m\u001B[43mGDD\u001B[49m\u001B[43m,\u001B[49m\u001B[43m \u001B[49m\u001B[43mTOD\u001B[49m\u001B[38;5;241;43m=\u001B[39;49m\u001B[43mTOD\u001B[49m\u001B[43m,\u001B[49m\u001B[43m \u001B[49m\u001B[43mnpts\u001B[49m\u001B[38;5;241;43m=\u001B[39;49m\u001B[43mPoints\u001B[49m\u001B[43m,\u001B[49m\n\u001B[0;32m     32\u001B[0m \u001B[43m                 \u001B[49m\u001B[43mpower_is_avg\u001B[49m\u001B[38;5;241;43m=\u001B[39;49m\u001B[38;5;28;43;01mFalse\u001B[39;49;00m\u001B[43m,\u001B[49m\u001B[43m \u001B[49m\u001B[43mepp\u001B[49m\u001B[38;5;241;43m=\u001B[39;49m\u001B[43mEPP\u001B[49m\u001B[43m)\u001B[49m\n\u001B[0;32m     34\u001B[0m \u001B[38;5;66;03m# create the fiber!\u001B[39;00m\n\u001B[0;32m     35\u001B[0m fiber1 \u001B[38;5;241m=\u001B[39m lf\u001B[38;5;241m.\u001B[39mFiber(Length \u001B[38;5;241m*\u001B[39m \u001B[38;5;241m1e-3\u001B[39m, center_wl_nm\u001B[38;5;241m=\u001B[39mpulseWL, dispersion_format\u001B[38;5;241m=\u001B[39m\u001B[38;5;124m'\u001B[39m\u001B[38;5;124mGVD\u001B[39m\u001B[38;5;124m'\u001B[39m,\n\u001B[0;32m     36\u001B[0m                   dispersion\u001B[38;5;241m=\u001B[39m(beta2\u001B[38;5;241m*\u001B[39m\u001B[38;5;241m1e-3\u001B[39m, beta3\u001B[38;5;241m*\u001B[39m\u001B[38;5;241m1e-3\u001B[39m, beta4\u001B[38;5;241m*\u001B[39m\u001B[38;5;241m1e-3\u001B[39m),\n\u001B[0;32m     37\u001B[0m                   gamma_W_m\u001B[38;5;241m=\u001B[39mGamma \u001B[38;5;241m*\u001B[39m \u001B[38;5;241m1e-3\u001B[39m, loss_dB_per_m\u001B[38;5;241m=\u001B[39mAlpha\u001B[38;5;241m*\u001B[39m\u001B[38;5;241m100\u001B[39m)\n",
      "File \u001B[1;32m~\\PycharmProjects\\SC-generation-stimulation\\laserfun\\pulse.py:103\u001B[0m, in \u001B[0;36mPulse.__init__\u001B[1;34m(self, pulse_type, length, center_wavelength_nm, fwhm_ps, time_window_ps, power, epp, npts, power_is_avg, frep_MHz, GDD, TOD, FOD, RI, wav)\u001B[0m\n\u001B[0;32m    100\u001B[0m     \u001B[38;5;28;01mraise\u001B[39;00m \u001B[38;5;167;01mValueError\u001B[39;00m(\u001B[38;5;124m'\u001B[39m\u001B[38;5;124mPulse type not recognized.\u001B[39m\u001B[38;5;124m'\u001B[39m)\n\u001B[0;32m    102\u001B[0m \u001B[38;5;66;03m# GDD response\u001B[39;00m\n\u001B[1;32m--> 103\u001B[0m \u001B[38;5;28;01mif\u001B[39;00m \u001B[43mGDD\u001B[49m \u001B[38;5;129;01mis\u001B[39;00m \u001B[38;5;28;01mTrue\u001B[39;00m:\n\u001B[0;32m    104\u001B[0m     length \u001B[38;5;241m=\u001B[39m length\n\u001B[0;32m    105\u001B[0m     wavelength \u001B[38;5;241m=\u001B[39m wav\u001B[38;5;241m*\u001B[39m\u001B[38;5;241m1e9\u001B[39m\n",
      "File \u001B[1;32m~\\PycharmProjects\\SC-generation-stimulation\\laserfun\\pulse.py:103\u001B[0m, in \u001B[0;36mPulse.__init__\u001B[1;34m(self, pulse_type, length, center_wavelength_nm, fwhm_ps, time_window_ps, power, epp, npts, power_is_avg, frep_MHz, GDD, TOD, FOD, RI, wav)\u001B[0m\n\u001B[0;32m    100\u001B[0m     \u001B[38;5;28;01mraise\u001B[39;00m \u001B[38;5;167;01mValueError\u001B[39;00m(\u001B[38;5;124m'\u001B[39m\u001B[38;5;124mPulse type not recognized.\u001B[39m\u001B[38;5;124m'\u001B[39m)\n\u001B[0;32m    102\u001B[0m \u001B[38;5;66;03m# GDD response\u001B[39;00m\n\u001B[1;32m--> 103\u001B[0m \u001B[38;5;28;01mif\u001B[39;00m \u001B[43mGDD\u001B[49m \u001B[38;5;129;01mis\u001B[39;00m \u001B[38;5;28;01mTrue\u001B[39;00m:\n\u001B[0;32m    104\u001B[0m     length \u001B[38;5;241m=\u001B[39m length\n\u001B[0;32m    105\u001B[0m     wavelength \u001B[38;5;241m=\u001B[39m wav\u001B[38;5;241m*\u001B[39m\u001B[38;5;241m1e9\u001B[39m\n",
      "File \u001B[1;32m_pydevd_bundle\\pydevd_cython_win32_39_64.pyx:1179\u001B[0m, in \u001B[0;36m_pydevd_bundle.pydevd_cython_win32_39_64.SafeCallWrapper.__call__\u001B[1;34m()\u001B[0m\n",
      "File \u001B[1;32m_pydevd_bundle\\pydevd_cython_win32_39_64.pyx:620\u001B[0m, in \u001B[0;36m_pydevd_bundle.pydevd_cython_win32_39_64.PyDBFrame.trace_dispatch\u001B[1;34m()\u001B[0m\n",
      "File \u001B[1;32m_pydevd_bundle\\pydevd_cython_win32_39_64.pyx:1095\u001B[0m, in \u001B[0;36m_pydevd_bundle.pydevd_cython_win32_39_64.PyDBFrame.trace_dispatch\u001B[1;34m()\u001B[0m\n",
      "File \u001B[1;32m_pydevd_bundle\\pydevd_cython_win32_39_64.pyx:1057\u001B[0m, in \u001B[0;36m_pydevd_bundle.pydevd_cython_win32_39_64.PyDBFrame.trace_dispatch\u001B[1;34m()\u001B[0m\n",
      "File \u001B[1;32m_pydevd_bundle\\pydevd_cython_win32_39_64.pyx:317\u001B[0m, in \u001B[0;36m_pydevd_bundle.pydevd_cython_win32_39_64.PyDBFrame.do_wait_suspend\u001B[1;34m()\u001B[0m\n",
      "File \u001B[1;32mC:\\Program Files\\JetBrains\\PyCharm 2023.2.3\\plugins\\python\\helpers\\pydev\\pydevd.py:1160\u001B[0m, in \u001B[0;36mPyDB.do_wait_suspend\u001B[1;34m(self, thread, frame, event, arg, send_suspend_message, is_unhandled_exception)\u001B[0m\n\u001B[0;32m   1157\u001B[0m         from_this_thread\u001B[38;5;241m.\u001B[39mappend(frame_id)\n\u001B[0;32m   1159\u001B[0m \u001B[38;5;28;01mwith\u001B[39;00m \u001B[38;5;28mself\u001B[39m\u001B[38;5;241m.\u001B[39m_threads_suspended_single_notification\u001B[38;5;241m.\u001B[39mnotify_thread_suspended(thread_id, stop_reason):\n\u001B[1;32m-> 1160\u001B[0m     \u001B[38;5;28;43mself\u001B[39;49m\u001B[38;5;241;43m.\u001B[39;49m\u001B[43m_do_wait_suspend\u001B[49m\u001B[43m(\u001B[49m\u001B[43mthread\u001B[49m\u001B[43m,\u001B[49m\u001B[43m \u001B[49m\u001B[43mframe\u001B[49m\u001B[43m,\u001B[49m\u001B[43m \u001B[49m\u001B[43mevent\u001B[49m\u001B[43m,\u001B[49m\u001B[43m \u001B[49m\u001B[43marg\u001B[49m\u001B[43m,\u001B[49m\u001B[43m \u001B[49m\u001B[43msuspend_type\u001B[49m\u001B[43m,\u001B[49m\u001B[43m \u001B[49m\u001B[43mfrom_this_thread\u001B[49m\u001B[43m)\u001B[49m\n",
      "File \u001B[1;32mC:\\Program Files\\JetBrains\\PyCharm 2023.2.3\\plugins\\python\\helpers\\pydev\\pydevd.py:1175\u001B[0m, in \u001B[0;36mPyDB._do_wait_suspend\u001B[1;34m(self, thread, frame, event, arg, suspend_type, from_this_thread)\u001B[0m\n\u001B[0;32m   1172\u001B[0m             \u001B[38;5;28mself\u001B[39m\u001B[38;5;241m.\u001B[39m_call_mpl_hook()\n\u001B[0;32m   1174\u001B[0m         \u001B[38;5;28mself\u001B[39m\u001B[38;5;241m.\u001B[39mprocess_internal_commands()\n\u001B[1;32m-> 1175\u001B[0m         \u001B[43mtime\u001B[49m\u001B[38;5;241;43m.\u001B[39;49m\u001B[43msleep\u001B[49m\u001B[43m(\u001B[49m\u001B[38;5;241;43m0.01\u001B[39;49m\u001B[43m)\u001B[49m\n\u001B[0;32m   1177\u001B[0m \u001B[38;5;28mself\u001B[39m\u001B[38;5;241m.\u001B[39mcancel_async_evaluation(get_current_thread_id(thread), \u001B[38;5;28mstr\u001B[39m(\u001B[38;5;28mid\u001B[39m(frame)))\n\u001B[0;32m   1179\u001B[0m \u001B[38;5;66;03m# process any stepping instructions\u001B[39;00m\n",
      "\u001B[1;31mKeyboardInterrupt\u001B[0m: "
     ]
    }
   ],
   "source": [
    "\"\"\"Example of pulse propagation using the NLSE.\"\"\"\n",
    "\n",
    "import laserfun as lf\n",
    "\n",
    "FWHM = 0.050    # pulse duration (ps)\n",
    "pulseWL = 1550  # pulse central wavelength (nm)\n",
    "EPP = 50e-12    # Energy per pulse (J)\n",
    "GDD = 0.0       # Group delay dispersion (ps^2)\n",
    "TOD = 0.0       # Third order dispersion (ps^3)\n",
    "\n",
    "Window = 7.0    # simulation window (ps)\n",
    "Steps = 100     # simulation steps\n",
    "Points = 2**12  # simulation points\n",
    "rtol = 1e-4     # relative error for NLSE integrator\n",
    "atol = 1e-4     # absolute error\n",
    "\n",
    "beta2 = -120    # (ps^2/km)\n",
    "beta3 = 0.00    # (ps^3/km)\n",
    "beta4 = 0.005   # (ps^4/km)\n",
    "\n",
    "Length = 10     # length in mm\n",
    "\n",
    "Alpha = 0       # loss (dB/cm)\n",
    "Gamma = 1000    # nonlinearity (1/(W km))\n",
    "\n",
    "Raman = True     # Enable Raman effect?\n",
    "Steep = True     # Enable self steepening?\n",
    "\n",
    "# create the pulse\n",
    "pulse = lf.Pulse(pulse_type='sech', fwhm_ps=FWHM, center_wavelength_nm=pulseWL,\n",
    "                 time_window_ps=Window, GDD=GDD, TOD=TOD, npts=Points,\n",
    "                 power_is_avg=False, epp=EPP)\n",
    "\n",
    "# create the fiber!\n",
    "fiber1 = lf.Fiber(Length * 1e-3, center_wl_nm=pulseWL, dispersion_format='GVD',\n",
    "                  dispersion=(beta2*1e-3, beta3*1e-3, beta4*1e-3),\n",
    "                  gamma_W_m=Gamma * 1e-3, loss_dB_per_m=Alpha*100)\n",
    "\n",
    "# propagate the pulse using the NLSE\n",
    "results = lf.NLSE(pulse, fiber1, raman=Raman, shock=Steep, nsaves=Steps,\n",
    "                  rtol=rtol, atol=atol, print_status=False)\n",
    "\n",
    "if __name__ == '__main__':\n",
    "    results.plot()"
   ]
  },
  {
   "cell_type": "code",
   "execution_count": null,
   "id": "115a40c9",
   "metadata": {},
   "outputs": [],
   "source": []
  }
 ],
 "metadata": {
  "kernelspec": {
   "display_name": "Python 3 (ipykernel)",
   "language": "python",
   "name": "python3"
  },
  "language_info": {
   "codemirror_mode": {
    "name": "ipython",
    "version": 3
   },
   "file_extension": ".py",
   "mimetype": "text/x-python",
   "name": "python",
   "nbconvert_exporter": "python",
   "pygments_lexer": "ipython3",
   "version": "3.9.13"
  }
 },
 "nbformat": 4,
 "nbformat_minor": 5
}
