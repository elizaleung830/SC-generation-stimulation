{
 "cells": [
  {
   "cell_type": "code",
   "execution_count": null,
   "id": "c083137c",
   "metadata": {
    "is_executing": true
   },
   "outputs": [],
   "source": [
    "\"\"\"Trial run to see if we get the same results from the paper Sinclair et al,\n",
    "     based on fiber, also currently what QuantX is usinmg for the clock.\"\"\"\n",
    "\n",
    "import laserfun as lf\n",
    "\n",
    "%matplotlib notebook\n",
    "\n",
    "FWHM = 0.400    # pulse duration (ps)\n",
    "pulseWL = 1560  # pulse central wavelength (nm)\n",
    "\n",
    "power = 0.272         # power (Watts)\n",
    "rep_rate = 2e8        # repetition rate (Hz)\n",
    "\n",
    "EPP = power/rep_rate    # Energy per pulse\n",
    "GDD = False     # Group delay dispersion (ps^2)\n",
    "TOD = False     # Third order dispersion (ps^3)\n",
    "\n",
    "Window = 5.0    # simulation window (ps)\n",
    "Steps = 100     # simulation steps\n",
    "Points = 2**12  # simulation points\n",
    "rtol = 1e-4     # relative error for NLSE integrator\n",
    "atol = 1e-4     # absolute error\n",
    "\n",
    "beta2 = -120    # (ps^2/km)\n",
    "beta3 = 0.00    # (ps^3/km)\n",
    "beta4 = 0.005   # (ps^4/km)\n",
    "\n",
    "Length = 20     # length in mm\n",
    "\n",
    "Alpha = 0       # loss (dB/cm)\n",
    "Gamma = 1000    # nonlinearity (1/(W km))\n",
    "\n",
    "Raman = True     # Enable Raman effect?\n",
    "Steep = True     # Enable self steepening?\n",
    "\n",
    "# create the pulse\n",
    "pulse = lf.Pulse(pulse_type='gaussian', fwhm_ps=FWHM, center_wavelength_nm=pulseWL,\n",
    "                 time_window_ps=Window, GDD=GDD, TOD=TOD, npts=Points, \n",
    "                 power_is_avg=True, epp=EPP)\n",
    "\n",
    "# create the fiber!\n",
    "fiber1 = lf.Fiber(Length * 1e-3, center_wl_nm=pulseWL, dispersion_format='GVD',\n",
    "                  dispersion=(beta2*1e-3, beta3*1e-3, beta4*1e-3),\n",
    "                  gamma_W_m=Gamma * 1e-3, loss_dB_per_m=Alpha*100)\n",
    "\n",
    "# propagate the pulse using the NLSE\n",
    "results = lf.NLSE(pulse, fiber1, raman=Raman, shock=Steep, nsaves=Steps,\n",
    "                  rtol=rtol, atol=atol, print_status=False)\n",
    "\n",
    "results.plot(wavelength=True, show=True, tlim=(-2, 2))"
   ]
  },
  {
   "cell_type": "code",
   "execution_count": 8,
   "id": "a5d29b8e",
   "metadata": {},
   "outputs": [
    {
     "name": "stdout",
     "output_type": "stream",
     "text": [
      "1.36e-09\n"
     ]
    }
   ],
   "source": [
    "print(EPP)"
   ]
  },
  {
   "cell_type": "code",
   "execution_count": null,
   "id": "5702a96f",
   "metadata": {},
   "outputs": [],
   "source": []
  }
 ],
 "metadata": {
  "kernelspec": {
   "display_name": "Python 3 (ipykernel)",
   "language": "python",
   "name": "python3"
  },
  "language_info": {
   "codemirror_mode": {
    "name": "ipython",
    "version": 3
   },
   "file_extension": ".py",
   "mimetype": "text/x-python",
   "name": "python",
   "nbconvert_exporter": "python",
   "pygments_lexer": "ipython3",
   "version": "3.9.13"
  }
 },
 "nbformat": 4,
 "nbformat_minor": 5
}
