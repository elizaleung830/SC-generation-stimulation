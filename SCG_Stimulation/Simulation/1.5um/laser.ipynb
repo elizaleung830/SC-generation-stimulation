{
 "cells": [
  {
   "cell_type": "markdown",
   "source": [
    "Z-cut LN: TE mode use n(o),and TM mode use n(e)\n",
    "Pulse: 10mW, 200MHz\n",
    "- Propagation loss \n",
    "- Pulse duration \n",
    "- length of waveguide \n",
    "- which mode should be used for laserfun"
   ],
   "metadata": {
    "collapsed": false
   },
   "id": "228d78faa511c0f"
  },
  {
   "cell_type": "code",
   "execution_count": null,
   "id": "initial_id",
   "metadata": {
    "collapsed": true
   },
   "outputs": [],
   "source": [
    "import laserfun as lf\n",
    "import matplotlib.pyplot as plt\n",
    "import scipy\n",
    "import numpy as np\n",
    "import pandas as pd\n",
    "from scipy.interpolate import UnivariateSpline\n",
    "from scipy.constants import speed_of_light as c\n",
    "\n",
    "# pulse parameters\n",
    "FWHM = 200 * 1e-3  # pulse duration (ps)\n",
    "pulseWL = 1560  # pulse central wavelength (nm)\n",
    "length = 10 *1e-3\n",
    "\n",
    "power = 10* 10e-3  # W\n",
    "GDD = False  # Group delay dispersion (ps^2)\n",
    "TOD = False  # Third order dispersion (ps^3)\n",
    "FOD = False  # Fourth order dispersion\n",
    "rep_rate = 80 * 1e6 # rep rate in hz\n",
    "\n",
    "# simulation parameters\n",
    "Window = 4  # simulation window (ps)\n",
    "Steps = 200  # simulation steps\n",
    "Points = 2 ** 14  # simulation points\n",
    "rtol = 1e-4  # relative error for NLSE integrator\n",
    "atol = 1e-4 # absolute error\n",
    "Raman = False  # Enable Raman effect?\n",
    "Steep = True  # Enable self steepening?\n",
    "\n",
    "ray = \"o\"\n",
    "top_width = 1.75  # um\n",
    "box_height = 5\n",
    "triangle_height = 0.6\n",
    "# ----------- Build Waveguide -----------\n",
    "n2 = 1e-19  # m^2/W n2 is the nonlinear refractive index at the center\n",
    "Alpha = 0.16  # loss (dB/cm)\n",
    "\n",
    "data = np.load(f\"data_h_{triangle_height}_w_{top_width}_{ray}.npz\")\n",
    "wls = data['wls']\n",
    "neff_list = data['neff_list_te']\n",
    "aeff_list = data['aeff_list_te']\n",
    "\n",
    "\n",
    "def disp_function(z=0):  # provide effective index to the NLSE\n",
    "    return (wls, neff_list)\n",
    "\n",
    "\n",
    "# Calculate Gamma\n",
    "def gamma_function(pump_wl):  # provide the nonlinearity at the pump to the NLSE\n",
    "    aeff_interp = scipy.interpolate.interp1d(wls, aeff_list)\n",
    "    gamma = 2 * np.pi * n2 / (pump_wl * 1e-9 * aeff_interp(pump_wl) * 1e-12)\n",
    "    return gamma\n",
    "print(gamma_function(pulseWL))\n",
    "\n",
    "# create the pulse:\n",
    "p = lf.Pulse(pulse_type='sech', fwhm_ps=FWHM, center_wavelength_nm=pulseWL,\n",
    "             time_window_ps=Window, power_is_avg=False, power=power, GDD=GDD, TOD=TOD, FOD=FOD,\n",
    "             npts=Points)\n",
    "p.add_noise()\n",
    "# create the waveguide\n",
    "f = lf.Fiber(length, center_wl_nm=pulseWL, dispersion_format='GVD',\n",
    "             gamma_W_m=gamma_function(pulseWL), loss_dB_per_m=Alpha * 100)\n",
    "\n",
    "f.set_dispersion_function(disp_function, dispersion_format='n')\n",
    "\n",
    "# propagate the pulse using the NLSE\n",
    "results = lf.NLSE(p, f, raman=Raman, shock=Steep, nsaves=Steps, rtol=rtol,\n",
    "                  atol=atol, print_status=True)\n",
    "###\n",
    "fig, axes = results.plot(wavelength=True, show=False, tlim=(-2, 2), flim=(500, 2500), units=\"dBm/nm\",rep_rate= rep_rate, cparam = [50, 60])\n",
    "\n",
    "plt.set_cmap('jet')\n",
    "plt.show()"
   ]
  }
 ],
 "metadata": {
  "kernelspec": {
   "display_name": "Python 3",
   "language": "python",
   "name": "python3"
  },
  "language_info": {
   "codemirror_mode": {
    "name": "ipython",
    "version": 2
   },
   "file_extension": ".py",
   "mimetype": "text/x-python",
   "name": "python",
   "nbconvert_exporter": "python",
   "pygments_lexer": "ipython2",
   "version": "2.7.6"
  }
 },
 "nbformat": 4,
 "nbformat_minor": 5
}
