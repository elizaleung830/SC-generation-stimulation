{
 "cells": [
  {
   "cell_type": "markdown",
   "source": [
    "For z-CUT LNOI: no for the quasi-TE mode and ne for the quasi-TM mode, despite propagation direction"
   ],
   "metadata": {
    "collapsed": false
   },
   "id": "35ce1726c5e1acf3"
  },
  {
   "cell_type": "code",
   "execution_count": 5,
   "outputs": [],
   "source": [
    "import laserfun as lf\n",
    "import matplotlib.pyplot as plt\n",
    "import scipy\n",
    "import numpy as np\n",
    "import pandas as pd\n",
    "from scipy.interpolate import UnivariateSpline\n",
    "from scipy.constants import pi, c\n",
    "import pychi\n",
    "import pynlo\n",
    "from pynlo import utility as ut\n",
    "\n",
    "# pulse parameters\n",
    "pulse_duration = 235e-15  #s \n",
    "pulse_energy = 750e-12\n",
    "pulse_wavelength = 1560e-9\n",
    "\n",
    "# simulation parameter\n",
    "simulation_steps = 100\n",
    "simulation_points = 2 ** 14\n",
    "simulation_error = 1e-5\n",
    "\n",
    "# waveguide parameters\n",
    "wg_length = 14*1e-3\n",
    "wg_width = 1  #um\n",
    "wg_chi2 = 60e-12\n",
    "n2 = 1e-19\n",
    "Alpha = 0\n",
    "\n",
    "\n",
    "# mode parameters\n",
    "data_tm = np.load(f\"data_w_{wg_width}_e.npz\")\n",
    "data_te = np.load(f\"data_w_{wg_width}_o.npz\")\n",
    "wls = data_te['wls'] * 1e-9\n",
    "neff_te = data_te['neff_list_te']\n",
    "aeff_te = data_te['aeff_list_te'] * 1e-12\n",
    "neff_tm = data_tm['neff_list_tm']\n",
    "aeff_tm = data_tm['aeff_list_tm']* 1e-12\n",
    "\n",
    "\n",
    "# Calculate Gamma\n",
    "def gamma_function(wavelength, aeff_list, wavelength_list):\n",
    "    aeff_interp = scipy.interpolate.interp1d(wavelength_list, aeff_list, fill_value=(aeff_list[0], aeff_list[-1]),\n",
    "                                             bounds_error=False)\n",
    "    gamma = 2 * np.pi * n2 / (wavelength * aeff_interp(wavelength))\n",
    "    return gamma\n",
    "\n",
    "aeff_interp = scipy.interpolate.interp1d(wls, aeff_tm)\n",
    "wg_aeff = aeff_interp(pulse_wavelength)\n"
   ],
   "metadata": {
    "collapsed": false,
    "ExecuteTime": {
     "end_time": "2024-02-09T05:56:31.544479800Z",
     "start_time": "2024-02-09T05:56:31.501480200Z"
    }
   },
   "id": "bcfc1c1e11f82823"
  },
  {
   "cell_type": "code",
   "execution_count": 6,
   "outputs": [
    {
     "name": "stdout",
     "output_type": "stream",
     "text": [
      "0.5099239507427787\n",
      "   1.0% - 1.414e-04 m - 0.0 seconds\n",
      "   2.0% - 2.828e-04 m - 0.1 seconds\n",
      "   3.0% - 4.242e-04 m - 0.1 seconds\n",
      "   4.0% - 5.657e-04 m - 0.1 seconds\n",
      "   5.1% - 7.071e-04 m - 0.1 seconds\n",
      "   6.1% - 8.485e-04 m - 0.2 seconds\n",
      "   7.1% - 9.899e-04 m - 0.2 seconds\n",
      "   8.1% - 1.131e-03 m - 0.2 seconds\n",
      "   9.1% - 1.273e-03 m - 0.2 seconds\n",
      "  10.1% - 1.414e-03 m - 0.2 seconds\n",
      "  11.1% - 1.556e-03 m - 0.3 seconds\n",
      "  12.1% - 1.697e-03 m - 0.3 seconds\n",
      "  13.1% - 1.838e-03 m - 0.3 seconds\n",
      "  14.1% - 1.980e-03 m - 0.3 seconds\n",
      "  15.2% - 2.121e-03 m - 0.4 seconds\n",
      "  16.2% - 2.263e-03 m - 0.4 seconds\n",
      "  17.2% - 2.404e-03 m - 0.4 seconds\n",
      "  18.2% - 2.545e-03 m - 0.5 seconds\n",
      "  19.2% - 2.687e-03 m - 0.6 seconds\n",
      "  20.2% - 2.828e-03 m - 0.6 seconds\n",
      "  21.2% - 2.970e-03 m - 0.7 seconds\n",
      "  22.2% - 3.111e-03 m - 0.8 seconds\n",
      "  23.2% - 3.253e-03 m - 1.0 seconds\n",
      "  24.2% - 3.394e-03 m - 1.3 seconds\n",
      "  25.3% - 3.535e-03 m - 1.6 seconds\n",
      "  26.3% - 3.677e-03 m - 1.9 seconds\n",
      "  27.3% - 3.818e-03 m - 2.4 seconds\n",
      "  28.3% - 3.960e-03 m - 2.9 seconds\n",
      "  29.3% - 4.101e-03 m - 3.5 seconds\n",
      "  30.3% - 4.242e-03 m - 4.0 seconds\n",
      "  31.3% - 4.384e-03 m - 5.0 seconds\n",
      "  32.3% - 4.525e-03 m - 5.8 seconds\n",
      "  33.3% - 4.667e-03 m - 6.6 seconds\n",
      "  34.3% - 4.808e-03 m - 7.3 seconds\n",
      "  35.4% - 4.949e-03 m - 7.8 seconds\n"
     ]
    },
    {
     "ename": "KeyboardInterrupt",
     "evalue": "",
     "output_type": "error",
     "traceback": [
      "\u001B[1;31m---------------------------------------------------------------------------\u001B[0m",
      "\u001B[1;31mKeyboardInterrupt\u001B[0m                         Traceback (most recent call last)",
      "Cell \u001B[1;32mIn[6], line 21\u001B[0m\n\u001B[0;32m     18\u001B[0m f\u001B[38;5;241m.\u001B[39mset_dispersion_function(disp_function, dispersion_format\u001B[38;5;241m=\u001B[39m\u001B[38;5;124m'\u001B[39m\u001B[38;5;124mn\u001B[39m\u001B[38;5;124m'\u001B[39m)\n\u001B[0;32m     20\u001B[0m \u001B[38;5;66;03m# propagate the pulse using the NLSE\u001B[39;00m\n\u001B[1;32m---> 21\u001B[0m results \u001B[38;5;241m=\u001B[39m \u001B[43mlf\u001B[49m\u001B[38;5;241;43m.\u001B[39;49m\u001B[43mNLSE\u001B[49m\u001B[43m(\u001B[49m\u001B[43mp\u001B[49m\u001B[43m,\u001B[49m\u001B[43m \u001B[49m\u001B[43mf\u001B[49m\u001B[43m,\u001B[49m\u001B[43m \u001B[49m\u001B[43mraman\u001B[49m\u001B[38;5;241;43m=\u001B[39;49m\u001B[38;5;28;43;01mFalse\u001B[39;49;00m\u001B[43m,\u001B[49m\u001B[43m \u001B[49m\u001B[43mshock\u001B[49m\u001B[38;5;241;43m=\u001B[39;49m\u001B[38;5;28;43;01mTrue\u001B[39;49;00m\u001B[43m,\u001B[49m\u001B[43m \u001B[49m\u001B[43mnsaves\u001B[49m\u001B[38;5;241;43m=\u001B[39;49m\u001B[43msimulation_steps\u001B[49m\u001B[43m,\u001B[49m\u001B[43m \u001B[49m\u001B[43mrtol\u001B[49m\u001B[38;5;241;43m=\u001B[39;49m\u001B[43msimulation_error\u001B[49m\u001B[43m,\u001B[49m\n\u001B[0;32m     22\u001B[0m \u001B[43m                  \u001B[49m\u001B[43matol\u001B[49m\u001B[38;5;241;43m=\u001B[39;49m\u001B[43msimulation_error\u001B[49m\u001B[43m,\u001B[49m\u001B[43m \u001B[49m\u001B[43mprint_status\u001B[49m\u001B[38;5;241;43m=\u001B[39;49m\u001B[38;5;28;43;01mTrue\u001B[39;49;00m\u001B[43m)\u001B[49m\n\u001B[0;32m     23\u001B[0m \u001B[38;5;66;03m# Ploting\u001B[39;00m\n\u001B[0;32m     24\u001B[0m fig, axes \u001B[38;5;241m=\u001B[39m results\u001B[38;5;241m.\u001B[39mplot(wavelength\u001B[38;5;241m=\u001B[39m\u001B[38;5;28;01mTrue\u001B[39;00m, show\u001B[38;5;241m=\u001B[39m\u001B[38;5;28;01mFalse\u001B[39;00m, tlim\u001B[38;5;241m=\u001B[39m(\u001B[38;5;241m-\u001B[39m\u001B[38;5;241m5\u001B[39m, \u001B[38;5;241m5\u001B[39m), flim\u001B[38;5;241m=\u001B[39m(\u001B[38;5;241m500\u001B[39m, \u001B[38;5;241m2500\u001B[39m), units\u001B[38;5;241m=\u001B[39m\u001B[38;5;124m\"\u001B[39m\u001B[38;5;124mdB\u001B[39m\u001B[38;5;124m\"\u001B[39m, cparam\u001B[38;5;241m=\u001B[39m[\u001B[38;5;241m50\u001B[39m, \u001B[38;5;241m60\u001B[39m])\n",
      "File \u001B[1;32m~\\PycharmProjects\\SC-generation-stimulation\\laserfun\\nlse.py:171\u001B[0m, in \u001B[0;36mNLSE\u001B[1;34m(pulse, fiber, nsaves, atol, rtol, reload_fiber, raman, shock, integrator, print_status)\u001B[0m\n\u001B[0;32m    168\u001B[0m     \u001B[38;5;28;01mif\u001B[39;00m \u001B[38;5;129;01mnot\u001B[39;00m r\u001B[38;5;241m.\u001B[39msuccessful():\n\u001B[0;32m    169\u001B[0m         \u001B[38;5;28;01mraise\u001B[39;00m \u001B[38;5;167;01mException\u001B[39;00m(\u001B[38;5;124m'\u001B[39m\u001B[38;5;124mIntegrator failed! Check the input parameters.\u001B[39m\u001B[38;5;124m'\u001B[39m)\n\u001B[1;32m--> 171\u001B[0m     AW[count\u001B[38;5;241m+\u001B[39m\u001B[38;5;241m1\u001B[39m] \u001B[38;5;241m=\u001B[39m \u001B[43mr\u001B[49m\u001B[38;5;241;43m.\u001B[39;49m\u001B[43mintegrate\u001B[49m\u001B[43m(\u001B[49m\u001B[43mzi\u001B[49m\u001B[43m)\u001B[49m\n\u001B[0;32m    173\u001B[0m \u001B[38;5;66;03m# process the output:\u001B[39;00m\n\u001B[0;32m    174\u001B[0m AT \u001B[38;5;241m=\u001B[39m np\u001B[38;5;241m.\u001B[39mzeros_like(AW)\n",
      "File \u001B[1;32m~\\AppData\\Local\\anaconda3\\envs\\SC-generation-stimulation\\lib\\site-packages\\scipy\\integrate\\_ode.py:725\u001B[0m, in \u001B[0;36mcomplex_ode.integrate\u001B[1;34m(self, t, step, relax)\u001B[0m\n\u001B[0;32m    699\u001B[0m \u001B[38;5;28;01mdef\u001B[39;00m \u001B[38;5;21mintegrate\u001B[39m(\u001B[38;5;28mself\u001B[39m, t, step\u001B[38;5;241m=\u001B[39m\u001B[38;5;28;01mFalse\u001B[39;00m, relax\u001B[38;5;241m=\u001B[39m\u001B[38;5;28;01mFalse\u001B[39;00m):\n\u001B[0;32m    700\u001B[0m \u001B[38;5;250m    \u001B[39m\u001B[38;5;124;03m\"\"\"Find y=y(t), set y as an initial condition, and return y.\u001B[39;00m\n\u001B[0;32m    701\u001B[0m \n\u001B[0;32m    702\u001B[0m \u001B[38;5;124;03m    Parameters\u001B[39;00m\n\u001B[1;32m   (...)\u001B[0m\n\u001B[0;32m    723\u001B[0m \u001B[38;5;124;03m        The integrated value at t\u001B[39;00m\n\u001B[0;32m    724\u001B[0m \u001B[38;5;124;03m    \"\"\"\u001B[39;00m\n\u001B[1;32m--> 725\u001B[0m     y \u001B[38;5;241m=\u001B[39m \u001B[43mode\u001B[49m\u001B[38;5;241;43m.\u001B[39;49m\u001B[43mintegrate\u001B[49m\u001B[43m(\u001B[49m\u001B[38;5;28;43mself\u001B[39;49m\u001B[43m,\u001B[49m\u001B[43m \u001B[49m\u001B[43mt\u001B[49m\u001B[43m,\u001B[49m\u001B[43m \u001B[49m\u001B[43mstep\u001B[49m\u001B[43m,\u001B[49m\u001B[43m \u001B[49m\u001B[43mrelax\u001B[49m\u001B[43m)\u001B[49m\n\u001B[0;32m    726\u001B[0m     \u001B[38;5;28;01mreturn\u001B[39;00m y[::\u001B[38;5;241m2\u001B[39m] \u001B[38;5;241m+\u001B[39m \u001B[38;5;241m1\u001B[39mj \u001B[38;5;241m*\u001B[39m y[\u001B[38;5;241m1\u001B[39m::\u001B[38;5;241m2\u001B[39m]\n",
      "File \u001B[1;32m~\\AppData\\Local\\anaconda3\\envs\\SC-generation-stimulation\\lib\\site-packages\\scipy\\integrate\\_ode.py:431\u001B[0m, in \u001B[0;36mode.integrate\u001B[1;34m(self, t, step, relax)\u001B[0m\n\u001B[0;32m    428\u001B[0m     mth \u001B[38;5;241m=\u001B[39m \u001B[38;5;28mself\u001B[39m\u001B[38;5;241m.\u001B[39m_integrator\u001B[38;5;241m.\u001B[39mrun\n\u001B[0;32m    430\u001B[0m \u001B[38;5;28;01mtry\u001B[39;00m:\n\u001B[1;32m--> 431\u001B[0m     \u001B[38;5;28mself\u001B[39m\u001B[38;5;241m.\u001B[39m_y, \u001B[38;5;28mself\u001B[39m\u001B[38;5;241m.\u001B[39mt \u001B[38;5;241m=\u001B[39m \u001B[43mmth\u001B[49m\u001B[43m(\u001B[49m\u001B[38;5;28;43mself\u001B[39;49m\u001B[38;5;241;43m.\u001B[39;49m\u001B[43mf\u001B[49m\u001B[43m,\u001B[49m\u001B[43m \u001B[49m\u001B[38;5;28;43mself\u001B[39;49m\u001B[38;5;241;43m.\u001B[39;49m\u001B[43mjac\u001B[49m\u001B[43m \u001B[49m\u001B[38;5;129;43;01mor\u001B[39;49;00m\u001B[43m \u001B[49m\u001B[43m(\u001B[49m\u001B[38;5;28;43;01mlambda\u001B[39;49;00m\u001B[43m:\u001B[49m\u001B[43m \u001B[49m\u001B[38;5;28;43;01mNone\u001B[39;49;00m\u001B[43m)\u001B[49m\u001B[43m,\u001B[49m\n\u001B[0;32m    432\u001B[0m \u001B[43m                          \u001B[49m\u001B[38;5;28;43mself\u001B[39;49m\u001B[38;5;241;43m.\u001B[39;49m\u001B[43m_y\u001B[49m\u001B[43m,\u001B[49m\u001B[43m \u001B[49m\u001B[38;5;28;43mself\u001B[39;49m\u001B[38;5;241;43m.\u001B[39;49m\u001B[43mt\u001B[49m\u001B[43m,\u001B[49m\u001B[43m \u001B[49m\u001B[43mt\u001B[49m\u001B[43m,\u001B[49m\n\u001B[0;32m    433\u001B[0m \u001B[43m                          \u001B[49m\u001B[38;5;28;43mself\u001B[39;49m\u001B[38;5;241;43m.\u001B[39;49m\u001B[43mf_params\u001B[49m\u001B[43m,\u001B[49m\u001B[43m \u001B[49m\u001B[38;5;28;43mself\u001B[39;49m\u001B[38;5;241;43m.\u001B[39;49m\u001B[43mjac_params\u001B[49m\u001B[43m)\u001B[49m\n\u001B[0;32m    434\u001B[0m \u001B[38;5;28;01mexcept\u001B[39;00m \u001B[38;5;167;01mSystemError\u001B[39;00m \u001B[38;5;28;01mas\u001B[39;00m e:\n\u001B[0;32m    435\u001B[0m     \u001B[38;5;66;03m# f2py issue with tuple returns, see ticket 1187.\u001B[39;00m\n\u001B[0;32m    436\u001B[0m     \u001B[38;5;28;01mraise\u001B[39;00m \u001B[38;5;167;01mValueError\u001B[39;00m(\n\u001B[0;32m    437\u001B[0m         \u001B[38;5;124m'\u001B[39m\u001B[38;5;124mFunction to integrate must not return a tuple.\u001B[39m\u001B[38;5;124m'\u001B[39m\n\u001B[0;32m    438\u001B[0m     ) \u001B[38;5;28;01mfrom\u001B[39;00m \u001B[38;5;21;01me\u001B[39;00m\n",
      "File \u001B[1;32m~\\AppData\\Local\\anaconda3\\envs\\SC-generation-stimulation\\lib\\site-packages\\scipy\\integrate\\_ode.py:1344\u001B[0m, in \u001B[0;36mlsoda.run\u001B[1;34m(self, f, jac, y0, t0, t1, f_params, jac_params)\u001B[0m\n\u001B[0;32m   1341\u001B[0m     \u001B[38;5;28mself\u001B[39m\u001B[38;5;241m.\u001B[39macquire_new_handle()\n\u001B[0;32m   1342\u001B[0m args \u001B[38;5;241m=\u001B[39m [f, y0, t0, t1] \u001B[38;5;241m+\u001B[39m \u001B[38;5;28mself\u001B[39m\u001B[38;5;241m.\u001B[39mcall_args[:\u001B[38;5;241m-\u001B[39m\u001B[38;5;241m1\u001B[39m] \u001B[38;5;241m+\u001B[39m \\\n\u001B[0;32m   1343\u001B[0m        [jac, \u001B[38;5;28mself\u001B[39m\u001B[38;5;241m.\u001B[39mcall_args[\u001B[38;5;241m-\u001B[39m\u001B[38;5;241m1\u001B[39m], f_params, \u001B[38;5;241m0\u001B[39m, jac_params]\n\u001B[1;32m-> 1344\u001B[0m y1, t, istate \u001B[38;5;241m=\u001B[39m \u001B[38;5;28;43mself\u001B[39;49m\u001B[38;5;241;43m.\u001B[39;49m\u001B[43mrunner\u001B[49m\u001B[43m(\u001B[49m\u001B[38;5;241;43m*\u001B[39;49m\u001B[43margs\u001B[49m\u001B[43m)\u001B[49m\n\u001B[0;32m   1345\u001B[0m \u001B[38;5;28mself\u001B[39m\u001B[38;5;241m.\u001B[39mistate \u001B[38;5;241m=\u001B[39m istate\n\u001B[0;32m   1346\u001B[0m \u001B[38;5;28;01mif\u001B[39;00m istate \u001B[38;5;241m<\u001B[39m \u001B[38;5;241m0\u001B[39m:\n",
      "File \u001B[1;32m~\\AppData\\Local\\anaconda3\\envs\\SC-generation-stimulation\\lib\\site-packages\\scipy\\integrate\\_ode.py:631\u001B[0m, in \u001B[0;36mcomplex_ode._wrap\u001B[1;34m(self, t, y, *f_args)\u001B[0m\n\u001B[0;32m    630\u001B[0m \u001B[38;5;28;01mdef\u001B[39;00m \u001B[38;5;21m_wrap\u001B[39m(\u001B[38;5;28mself\u001B[39m, t, y, \u001B[38;5;241m*\u001B[39mf_args):\n\u001B[1;32m--> 631\u001B[0m     f \u001B[38;5;241m=\u001B[39m \u001B[38;5;28;43mself\u001B[39;49m\u001B[38;5;241;43m.\u001B[39;49m\u001B[43mcf\u001B[49m\u001B[43m(\u001B[49m\u001B[38;5;241;43m*\u001B[39;49m\u001B[43m(\u001B[49m\u001B[43m(\u001B[49m\u001B[43mt\u001B[49m\u001B[43m,\u001B[49m\u001B[43m \u001B[49m\u001B[43my\u001B[49m\u001B[43m[\u001B[49m\u001B[43m:\u001B[49m\u001B[43m:\u001B[49m\u001B[38;5;241;43m2\u001B[39;49m\u001B[43m]\u001B[49m\u001B[43m \u001B[49m\u001B[38;5;241;43m+\u001B[39;49m\u001B[43m \u001B[49m\u001B[38;5;241;43m1\u001B[39;49m\u001B[43mj\u001B[49m\u001B[43m \u001B[49m\u001B[38;5;241;43m*\u001B[39;49m\u001B[43m \u001B[49m\u001B[43my\u001B[49m\u001B[43m[\u001B[49m\u001B[38;5;241;43m1\u001B[39;49m\u001B[43m:\u001B[49m\u001B[43m:\u001B[49m\u001B[38;5;241;43m2\u001B[39;49m\u001B[43m]\u001B[49m\u001B[43m)\u001B[49m\u001B[43m \u001B[49m\u001B[38;5;241;43m+\u001B[39;49m\u001B[43m \u001B[49m\u001B[43mf_args\u001B[49m\u001B[43m)\u001B[49m\u001B[43m)\u001B[49m\n\u001B[0;32m    632\u001B[0m     \u001B[38;5;66;03m# self.tmp is a real-valued array containing the interleaved\u001B[39;00m\n\u001B[0;32m    633\u001B[0m     \u001B[38;5;66;03m# real and imaginary parts of f.\u001B[39;00m\n\u001B[0;32m    634\u001B[0m     \u001B[38;5;28mself\u001B[39m\u001B[38;5;241m.\u001B[39mtmp[::\u001B[38;5;241m2\u001B[39m] \u001B[38;5;241m=\u001B[39m real(f)\n",
      "File \u001B[1;32m~\\PycharmProjects\\SC-generation-stimulation\\laserfun\\nlse.py:147\u001B[0m, in \u001B[0;36mNLSE.<locals>.rhs\u001B[1;34m(z, aw)\u001B[0m\n\u001B[0;32m    144\u001B[0m     rs \u001B[38;5;241m=\u001B[39m dt \u001B[38;5;241m*\u001B[39m fr \u001B[38;5;241m*\u001B[39m fft(ifft(it) \u001B[38;5;241m*\u001B[39m rw)     \u001B[38;5;66;03m# Raman convolution\u001B[39;00m\n\u001B[0;32m    145\u001B[0m     m \u001B[38;5;241m=\u001B[39m ifft(at\u001B[38;5;241m*\u001B[39m((\u001B[38;5;241m1\u001B[39m\u001B[38;5;241m-\u001B[39mfr)\u001B[38;5;241m*\u001B[39mit \u001B[38;5;241m+\u001B[39m rs))         \u001B[38;5;66;03m# response function\u001B[39;00m\n\u001B[1;32m--> 147\u001B[0m r \u001B[38;5;241m=\u001B[39m \u001B[38;5;241m1\u001B[39mj \u001B[38;5;241m*\u001B[39m gamma \u001B[38;5;241m*\u001B[39m w \u001B[38;5;241m*\u001B[39m m \u001B[38;5;241m*\u001B[39m \u001B[43mexp\u001B[49m\u001B[43m(\u001B[49m\u001B[38;5;241;43m-\u001B[39;49m\u001B[43mlin_operator\u001B[49m\u001B[38;5;241;43m*\u001B[39;49m\u001B[43mz\u001B[49m\u001B[43m)\u001B[49m  \u001B[38;5;66;03m# full RHS of Eq. (3.13)\u001B[39;00m\n\u001B[0;32m    148\u001B[0m \u001B[38;5;28;01mreturn\u001B[39;00m r\n",
      "\u001B[1;31mKeyboardInterrupt\u001B[0m: "
     ]
    }
   ],
   "source": [
    "#--laserfun\n",
    "# create the pulse:\n",
    "p = lf.Pulse(pulse_type='gaussian', fwhm_ps=pulse_duration * 1e12, center_wavelength_nm=pulse_wavelength * 1e9,\n",
    "             power_is_avg=False, epp=pulse_energy, GDD=False, TOD=False, FOD=False, npts=simulation_points)\n",
    "p.add_noise()\n",
    "\n",
    "# create the waveguide\n",
    "gamma = gamma_function(pulse_wavelength, aeff_tm,wls)\n",
    "print(gamma)\n",
    "f = lf.Fiber(wg_length, center_wl_nm=pulse_wavelength * 1e9, dispersion_format='GVD',\n",
    "             gamma_W_m=gamma, loss_dB_per_m=Alpha * 100)\n",
    "\n",
    "\n",
    "def disp_function(z=0):\n",
    "    return (wls * 1e9, neff_tm)\n",
    "\n",
    "\n",
    "f.set_dispersion_function(disp_function, dispersion_format='n')\n",
    "\n",
    "# propagate the pulse using the NLSE\n",
    "results = lf.NLSE(p, f, raman=False, shock=True, nsaves=simulation_steps, rtol=simulation_error,\n",
    "                  atol=simulation_error, print_status=True)\n",
    "# Ploting\n",
    "fig, axes = results.plot(wavelength=True, show=False, tlim=(-5, 5), flim=(500, 2500), units=\"dB\", cparam=[50, 60])\n",
    "\n",
    "plt.set_cmap('jet')\n",
    "plt.show()\n"
   ],
   "metadata": {
    "collapsed": false,
    "ExecuteTime": {
     "end_time": "2024-02-09T05:56:41.260298700Z",
     "start_time": "2024-02-09T05:56:31.548480400Z"
    }
   },
   "id": "3f66dd135b9a7e76"
  },
  {
   "cell_type": "markdown",
   "source": [
    "Propagate laser to the waveguide using pynlo"
   ],
   "metadata": {
    "collapsed": false
   },
   "id": "72bb8db9bd006e8c"
  },
  {
   "cell_type": "code",
   "execution_count": null,
   "outputs": [],
   "source": [
    "\n",
    "eps_0 = 8.8541878128e-12\n",
    "wg_freq = c / wls\n",
    "neff_interp = scipy.interpolate.interp1d(wls, neff_tm)\n",
    "def wg_chi_3(z, freq):\n",
    "    return 4 / 3 * neff_interp(c/freq) ** 2 * c * n2 * eps_0\n",
    "\n",
    "\n",
    "print(wg_chi_3(0, c / pulse_wavelength))\n",
    "\n",
    "### Prepare waveguide\n",
    "waveguide = pychi.materials.Waveguide(wg_freq, neff_tm, wg_chi2, wg_chi_3, wg_aeff, wg_length, t_pts=simulation_points)\n",
    "\n",
    "### Prepare input pulse\n",
    "pulse_pychi = pychi.light.Sech(waveguide, pulse_duration, pulse_energy, pulse_wavelength)\n",
    "\n",
    "### Prepare model\n",
    "model = pychi.models.SpmChi2Chi3(waveguide, pulse_pychi)\n",
    "\n",
    "### Prepare solver, solve\n",
    "solver = pychi.solvers.Solver(model, z_pts=100)\n",
    "solver.solve()\n",
    "\n",
    "# Plot\n",
    "plt.figure()\n",
    "plt.plot(pulse_pychi.wl * 1e9, 20 * np.log10(pulse_pychi.spectrum_wl[-1] / np.amax(pulse_pychi.spectrum_wl[-1])))\n",
    "plt.xlim(500, 2500)\n",
    "plt.ylim(-75, 5)\n",
    "plt.title('Pychi')\n",
    "plt.xlabel('Wavelength [m]')\n",
    "plt.ylabel('Intensity [dB]')\n",
    "\n",
    "plt.set_cmap('jet')\n",
    "plt.show()\n",
    "pulse_pychi.plot_propagation()\n",
    "# Results can also be accessed via pulse.z_save, pulse.freq, pulse.spectrum, pulse.waveform\n",
    "# The refractive index and GVD can be seen with waveguide.plot_refractive_index()"
   ],
   "metadata": {
    "collapsed": false,
    "ExecuteTime": {
     "start_time": "2024-02-09T05:56:41.262298600Z"
    }
   },
   "id": "6e8e36982a9f37bc"
  },
  {
   "cell_type": "code",
   "execution_count": null,
   "outputs": [],
   "source": [
    "# pulse parameters\n",
    "f_min = c / (2490e-9)  # c / l\n",
    "f_max = c / (550e-9)  # c / l\n",
    "f0 = c / pulse_wavelength  # c / \n",
    "\n",
    "pulse = pynlo.light.Pulse.Gaussian(simulation_points, f_min, f_max, f0, pulse_energy, pulse_duration, alias=2)  # alias = number of harmonic support by the real-valued time domain grid\n",
    "\n",
    "#---- Phase Coefficient\n",
    "w_grid = c / pulse.v_grid\n",
    "n_eff = neff_interp(w_grid)\n",
    "beta = n_eff * 2 * pi * pulse.v_grid / c\n",
    "\n",
    "#---- 2nd-order nonlinearity\n",
    "g2 = ut.chi2.g2_shg(f0, pulse.v_grid, n_eff, wg_aeff, wg_chi2)\n",
    "\n",
    "# 3rd-Order Nonlinearity\n",
    "gamma = gamma_function(w_grid, aeff_tm, wls)  #1/(W*m)\n",
    "print(gamma)\n",
    "g3 = ut.chi3.gamma_to_g3(pulse.v_grid, gamma)\n",
    "\n",
    "mode = pynlo.medium.Mode(pulse.v_grid, beta, g3=g3, g2=g2)\n",
    "\n",
    "#----build model\n",
    "model = pynlo.model.UPE(pulse, mode)\n",
    "\n",
    "#---- Estimate step size\n",
    "dz = model.estimate_step_size(local_error=simulation_error)\n",
    "\n",
    "pulse_out, z, a_t, a_v = model.simulate(wg_length, dz=dz, local_error=simulation_error, n_records=simulation_steps, plot=\"wvl\")\n",
    "\n",
    "fig = plt.figure(figsize=(8, 8))\n",
    "ax0 = plt.subplot2grid((3, 2), (0, 0), rowspan=1)\n",
    "ax1 = plt.subplot2grid((3, 2), (0, 1), rowspan=1)\n",
    "ax2 = plt.subplot2grid((3, 2), (1, 0), rowspan=2, sharex=ax0)\n",
    "ax3 = plt.subplot2grid((3, 2), (1, 1), rowspan=2, sharex=ax1)\n",
    "\n",
    "p_v_dB = 10 * np.log10(np.abs(a_v) ** 2)\n",
    "p_v_dB -= p_v_dB.max()\n",
    "\n",
    "w_grid = c / (pulse.v_grid) * 1e9\n",
    "ax0.plot(w_grid, p_v_dB[0], color=\"b\", label='Initial')\n",
    "ax0.plot(pulse_pychi.wl * 1e9, 20 * np.log10(pulse_pychi.spectrum_wl[-1] / np.amax(pulse_pychi.spectrum_wl[-1])), color = \"green\", label=\"pychi\")\n",
    "ax0.plot(w_grid, p_v_dB[-1], color=\"r\", label=\"pynlo\")\n",
    "ax0.legend()\n",
    "ax2.pcolormesh(w_grid, 1e3 * z, p_v_dB,\n",
    "               vmin=-40.0, vmax=0, shading=\"auto\", cmap=\"jet\")\n",
    "ax0.set_ylim(bottom=-60, top=10)\n",
    "ax2.set_xlabel('wavelegnth (nm)')\n",
    "\n",
    "p_t_dB = 10 * np.log10(np.abs(a_t) ** 2)\n",
    "p_t_dB -= p_t_dB.max()\n",
    "ax1.plot(1e12 * pulse.t_grid, p_t_dB[0], color=\"b\", label='Initial')\n",
    "ax1.plot(1e12 * pulse.t_grid, p_t_dB[-1], color=\"r\")\n",
    "ax3.pcolormesh(1e12 * pulse.t_grid, 1e3 * z, p_t_dB,\n",
    "               vmin=-40.0, vmax=0, shading=\"auto\")\n",
    "\n",
    "ax1.set_ylim(bottom=-80, top=10)\n",
    "ax1.set_xlim(-4, 4)\n",
    "ax3.set_xlabel('Time (ps)')\n",
    "\n",
    "ax0.set_ylabel('Power (dB)')\n",
    "ax2.set_ylabel('Propagation Distance (mm)')\n",
    "plt.set_cmap('jet')\n",
    "plt.show()\n"
   ],
   "metadata": {
    "collapsed": false,
    "ExecuteTime": {
     "end_time": "2024-02-09T05:56:41.270298800Z",
     "start_time": "2024-02-09T05:56:41.266298600Z"
    }
   },
   "id": "4ba263cf1d2c8018"
  },
  {
   "cell_type": "code",
   "execution_count": null,
   "outputs": [],
   "source": [],
   "metadata": {
    "collapsed": false,
    "ExecuteTime": {
     "start_time": "2024-02-09T05:56:41.269298Z"
    }
   },
   "id": "135fbc009c23f2c5"
  }
 ],
 "metadata": {
  "kernelspec": {
   "display_name": "Python 3",
   "language": "python",
   "name": "python3"
  },
  "language_info": {
   "codemirror_mode": {
    "name": "ipython",
    "version": 2
   },
   "file_extension": ".py",
   "mimetype": "text/x-python",
   "name": "python",
   "nbconvert_exporter": "python",
   "pygments_lexer": "ipython2",
   "version": "2.7.6"
  }
 },
 "nbformat": 4,
 "nbformat_minor": 5
}
