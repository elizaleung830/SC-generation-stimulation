{
 "cells": [
  {
   "cell_type": "markdown",
   "source": [
    "For z-CUT LNOI: no for the quasi-TE mode and ne for the quasi-TM mode"
   ],
   "metadata": {
    "collapsed": false
   },
   "id": "35ce1726c5e1acf3"
  },
  {
   "cell_type": "code",
   "execution_count": null,
   "outputs": [],
   "source": [
    "import laserfun as lf\n",
    "import matplotlib.pyplot as plt\n",
    "import scipy\n",
    "import numpy as np\n",
    "import pandas as pd\n",
    "from scipy.interpolate import UnivariateSpline\n",
    "from scipy.constants import pi, c\n",
    "import pychi\n",
    "import pynlo\n",
    "from pynlo import utility as ut\n",
    "\n",
    "# pulse parameters\n",
    "pulse_duration = 235e-15  #s \n",
    "pulse_energy = 1.5e-3 / 200e6\n",
    "pulse_wavelength = 1560e-9\n",
    "\n",
    "# simulation parameter\n",
    "simulation_steps = 100\n",
    "simulation_points = 2 ** 14\n",
    "simulation_error = 1e-5\n",
    "\n",
    "# waveguide parameters\n",
    "wg_length = 14*1e-3\n",
    "wg_width = 0.7  #um\n",
    "wg_chi2 = 33e-12 * 2 #TODO: check\n",
    "n2 = 1e-19\n",
    "Alpha = 0\n",
    "\n",
    "\n",
    "# mode parameters\n",
    "data_tm = np.load(f\"data_w_{wg_width}_e.npz\")\n",
    "data_te = np.load(f\"data_w_{wg_width}_o.npz\")\n",
    "wls = data_te['wls'] * 1e-9\n",
    "neff_te = data_te['neff_list_te']\n",
    "aeff_te = data_te['aeff_list_te'] * 1e-12\n",
    "neff_tm = data_tm['neff_list_tm']\n",
    "aeff_tm = data_tm['aeff_list_tm']* 1e-12\n",
    "\n",
    "\n",
    "# Calculate Gamma\n",
    "def gamma_function(wavelength, aeff_list, wavelength_list):\n",
    "    aeff_interp = scipy.interpolate.interp1d(wavelength_list, aeff_list, fill_value=(aeff_list[0], aeff_list[-1]),\n",
    "                                             bounds_error=False)\n",
    "    gamma = 2 * np.pi * n2 / (wavelength * aeff_interp(wavelength))\n",
    "    return gamma\n",
    "\n",
    "aeff_interp = scipy.interpolate.interp1d(wls, aeff_tm)\n",
    "wg_aeff = aeff_interp(pulse_wavelength)\n"
   ],
   "metadata": {
    "collapsed": false,
    "ExecuteTime": {
     "start_time": "2024-02-05T05:49:24.444465800Z"
    }
   },
   "id": "bcfc1c1e11f82823"
  },
  {
   "cell_type": "code",
   "execution_count": null,
   "outputs": [],
   "source": [
    "#--laserfun\n",
    "# create the pulse:\n",
    "p = lf.Pulse(pulse_type='gaussian', fwhm_ps=pulse_duration * 1e12, center_wavelength_nm=pulse_wavelength * 1e9,\n",
    "             power_is_avg=False, epp=pulse_energy, GDD=False, TOD=False, FOD=False, npts=simulation_points)\n",
    "p.add_noise()\n",
    "\n",
    "# create the waveguide\n",
    "gamma = gamma_function(pulse_wavelength, aeff_tm,wls)\n",
    "print(gamma)\n",
    "f = lf.Fiber(wg_length, center_wl_nm=pulse_wavelength * 1e9, dispersion_format='GVD',\n",
    "             gamma_W_m=gamma, loss_dB_per_m=Alpha * 100)\n",
    "\n",
    "\n",
    "def disp_function(z=0):\n",
    "    return (wls * 1e9, neff_tm)\n",
    "\n",
    "\n",
    "f.set_dispersion_function(disp_function, dispersion_format='n')\n",
    "\n",
    "# propagate the pulse using the NLSE\n",
    "results = lf.NLSE(p, f, raman=False, shock=True, nsaves=simulation_steps, rtol=simulation_error,\n",
    "                  atol=simulation_error, print_status=True)\n",
    "# Ploting\n",
    "fig, axes = results.plot(wavelength=True, show=False, tlim=(-5, 5), flim=(500, 2500), units=\"dB\", cparam=[50, 60])\n",
    "\n",
    "plt.set_cmap('jet')\n",
    "plt.show()\n"
   ],
   "metadata": {
    "collapsed": false,
    "ExecuteTime": {
     "start_time": "2024-02-05T05:49:24.445466100Z"
    }
   },
   "id": "3f66dd135b9a7e76"
  },
  {
   "cell_type": "markdown",
   "source": [
    "Propagate laser to the waveguide using pynlo"
   ],
   "metadata": {
    "collapsed": false
   },
   "id": "72bb8db9bd006e8c"
  },
  {
   "cell_type": "code",
   "execution_count": null,
   "outputs": [],
   "source": [
    "\n",
    "eps_0 = 8.8541878128e-12\n",
    "wg_freq = c / wls\n",
    "neff_interp = scipy.interpolate.interp1d(wls, neff_tm)\n",
    "def wg_chi_3(z, freq):\n",
    "    return 4 / 3 * neff_interp(c/freq) ** 2 * c * n2 * eps_0\n",
    "\n",
    "\n",
    "print(wg_chi_3(0, c / pulse_wavelength))\n",
    "\n",
    "### Prepare waveguide\n",
    "waveguide = pychi.materials.Waveguide(wg_freq, neff_tm, wg_chi2, wg_chi_3, wg_aeff, wg_length, t_pts=simulation_points)\n",
    "\n",
    "### Prepare input pulse\n",
    "pulse_pychi = pychi.light.Sech(waveguide, pulse_duration, pulse_energy, pulse_wavelength)\n",
    "\n",
    "### Prepare model\n",
    "model = pychi.models.SpmChi2Chi3(waveguide, pulse_pychi)\n",
    "\n",
    "### Prepare solver, solve\n",
    "solver = pychi.solvers.Solver(model, z_pts=100)\n",
    "solver.solve()\n",
    "\n",
    "# Plot\n",
    "plt.figure()\n",
    "plt.plot(pulse_pychi.wl * 1e9, 20 * np.log10(pulse_pychi.spectrum_wl[-1] / np.amax(pulse_pychi.spectrum_wl[-1])))\n",
    "plt.xlim(500, 2500)\n",
    "plt.ylim(-75, 5)\n",
    "plt.title('Pychi')\n",
    "plt.xlabel('Wavelength [m]')\n",
    "plt.ylabel('Intensity [dB]')\n",
    "\n",
    "plt.set_cmap('jet')\n",
    "plt.show()\n",
    "pulse_pychi.plot_propagation()\n",
    "# Results can also be accessed via pulse.z_save, pulse.freq, pulse.spectrum, pulse.waveform\n",
    "# The refractive index and GVD can be seen with waveguide.plot_refractive_index()"
   ],
   "metadata": {
    "collapsed": false,
    "ExecuteTime": {
     "start_time": "2024-02-05T05:49:24.445466100Z"
    }
   },
   "id": "6e8e36982a9f37bc"
  },
  {
   "cell_type": "code",
   "execution_count": null,
   "outputs": [],
   "source": [
    "# pulse parameters\n",
    "f_min = c / (2490e-9)  # c / l\n",
    "f_max = c / (550e-9)  # c / l\n",
    "f0 = c / pulse_wavelength  # c / \n",
    "\n",
    "pulse = pynlo.light.Pulse.Gaussian(simulation_points, f_min, f_max, f0, pulse_energy, pulse_duration, alias=2)  # alias = number of harmonic support by the real-valued time domain grid\n",
    "\n",
    "#---- Phase Coefficient\n",
    "w_grid = c / pulse.v_grid\n",
    "n_eff = neff_interp(w_grid)\n",
    "beta = n_eff * 2 * pi * pulse.v_grid / c\n",
    "\n",
    "#---- 2nd-order nonlinearity\n",
    "g2 = ut.chi2.g2_shg(f0, pulse.v_grid, n_eff, wg_aeff, wg_chi2)\n",
    "\n",
    "# 3rd-Order Nonlinearity\n",
    "gamma = gamma_function(w_grid, aeff_tm, wls)  #1/(W*m)\n",
    "print(gamma)\n",
    "g3 = ut.chi3.gamma_to_g3(pulse.v_grid, gamma)\n",
    "\n",
    "mode = pynlo.medium.Mode(pulse.v_grid, beta, g3=g3, g2=g2)\n",
    "\n",
    "#----build model\n",
    "model = pynlo.model.UPE(pulse, mode)\n",
    "\n",
    "#---- Estimate step size\n",
    "dz = model.estimate_step_size(local_error=simulation_error)\n",
    "\n",
    "pulse_out, z, a_t, a_v = model.simulate(wg_length, dz=dz, local_error=simulation_error, n_records=simulation_steps, plot=\"wvl\")\n",
    "\n",
    "fig = plt.figure(figsize=(8, 8))\n",
    "ax0 = plt.subplot2grid((3, 2), (0, 0), rowspan=1)\n",
    "ax1 = plt.subplot2grid((3, 2), (0, 1), rowspan=1)\n",
    "ax2 = plt.subplot2grid((3, 2), (1, 0), rowspan=2, sharex=ax0)\n",
    "ax3 = plt.subplot2grid((3, 2), (1, 1), rowspan=2, sharex=ax1)\n",
    "\n",
    "p_v_dB = 10 * np.log10(np.abs(a_v) ** 2)\n",
    "p_v_dB -= p_v_dB.max()\n",
    "\n",
    "w_grid = c / (pulse.v_grid) * 1e9\n",
    "ax0.plot(w_grid, p_v_dB[0], color=\"b\", label='Initial')\n",
    "ax0.plot(pulse_pychi.wl * 1e9, 20 * np.log10(pulse_pychi.spectrum_wl[-1] / np.amax(pulse_pychi.spectrum_wl[-1])), color = \"green\", label=\"pychi\")\n",
    "ax0.plot(w_grid, p_v_dB[-1], color=\"r\", label=\"pynlo\")\n",
    "ax0.legend()\n",
    "ax2.pcolormesh(w_grid, 1e3 * z, p_v_dB,\n",
    "               vmin=-40.0, vmax=0, shading=\"auto\", cmap=\"jet\")\n",
    "ax0.set_ylim(bottom=-60, top=10)\n",
    "ax2.set_xlabel('wavelegnth (nm)')\n",
    "\n",
    "p_t_dB = 10 * np.log10(np.abs(a_t) ** 2)\n",
    "p_t_dB -= p_t_dB.max()\n",
    "ax1.plot(1e12 * pulse.t_grid, p_t_dB[0], color=\"b\", label='Initial')\n",
    "ax1.plot(1e12 * pulse.t_grid, p_t_dB[-1], color=\"r\")\n",
    "ax3.pcolormesh(1e12 * pulse.t_grid, 1e3 * z, p_t_dB,\n",
    "               vmin=-40.0, vmax=0, shading=\"auto\")\n",
    "\n",
    "ax1.set_ylim(bottom=-80, top=10)\n",
    "ax1.set_xlim(-4, 4)\n",
    "ax3.set_xlabel('Time (ps)')\n",
    "\n",
    "ax0.set_ylabel('Power (dB)')\n",
    "ax2.set_ylabel('Propagation Distance (mm)')\n",
    "plt.set_cmap('jet')\n",
    "plt.show()\n"
   ],
   "metadata": {
    "collapsed": false,
    "ExecuteTime": {
     "start_time": "2024-02-05T05:49:24.446465900Z"
    }
   },
   "id": "4ba263cf1d2c8018"
  },
  {
   "cell_type": "markdown",
   "source": [],
   "metadata": {
    "collapsed": false
   },
   "id": "d2b9fc0a59dc1605"
  }
 ],
 "metadata": {
  "kernelspec": {
   "display_name": "Python 3",
   "language": "python",
   "name": "python3"
  },
  "language_info": {
   "codemirror_mode": {
    "name": "ipython",
    "version": 2
   },
   "file_extension": ".py",
   "mimetype": "text/x-python",
   "name": "python",
   "nbconvert_exporter": "python",
   "pygments_lexer": "ipython2",
   "version": "2.7.6"
  }
 },
 "nbformat": 4,
 "nbformat_minor": 5
}
