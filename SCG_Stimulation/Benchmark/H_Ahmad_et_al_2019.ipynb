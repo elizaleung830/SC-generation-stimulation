{
 "cells": [
  {
   "cell_type": "markdown",
   "source": [
    "https://iopscience.iop.org/article/10.1088/1555-6611/aaf63d\n",
    "H Ahmad et al 2019 Laser Phys. 29 025301"
   ],
   "metadata": {
    "collapsed": false
   },
   "id": "acc6bd364453f1d8"
  }
 ],
 "metadata": {
  "kernelspec": {
   "display_name": "Python 3",
   "language": "python",
   "name": "python3"
  },
  "language_info": {
   "codemirror_mode": {
    "name": "ipython",
    "version": 2
   },
   "file_extension": ".py",
   "mimetype": "text/x-python",
   "name": "python",
   "nbconvert_exporter": "python",
   "pygments_lexer": "ipython2",
   "version": "2.7.6"
  }
 },
 "nbformat": 4,
 "nbformat_minor": 5
}
