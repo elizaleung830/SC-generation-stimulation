{
 "cells": [
  {
   "cell_type": "markdown",
   "source": [
    "Aim : Reproduce figure 2 and 3 from https://pubs.aip.org/aip/app/article/5/12/121301/123226/Generation-of-280-THz-spanning-near-ultraviolet"
   ],
   "metadata": {
    "collapsed": false
   },
   "id": "d158e1291da8158e"
  },
  {
   "cell_type": "markdown",
   "source": [
    "First, create waveguide geometry. Run the fem solver to get the effective refractive index and effective area of the waveguide."
   ],
   "metadata": {
    "collapsed": false
   },
   "id": "35ce1726c5e1acf3"
  },
  {
   "cell_type": "code",
   "execution_count": 1,
   "outputs": [
    {
     "ename": "KeyboardInterrupt",
     "evalue": "",
     "output_type": "error",
     "traceback": [
      "\u001B[1;31m---------------------------------------------------------------------------\u001B[0m",
      "\u001B[1;31mKeyboardInterrupt\u001B[0m                         Traceback (most recent call last)",
      "Cell \u001B[1;32mIn[1], line 3\u001B[0m\n\u001B[0;32m      1\u001B[0m \u001B[38;5;28;01mimport\u001B[39;00m \u001B[38;5;21;01mmath\u001B[39;00m\n\u001B[1;32m----> 3\u001B[0m \u001B[38;5;28;01mfrom\u001B[39;00m \u001B[38;5;21;01mskfem\u001B[39;00m \u001B[38;5;28;01mimport\u001B[39;00m Basis, ElementTriP0\n\u001B[0;32m      4\u001B[0m \u001B[38;5;28;01mfrom\u001B[39;00m \u001B[38;5;21;01mtqdm\u001B[39;00m \u001B[38;5;28;01mimport\u001B[39;00m tqdm\n\u001B[0;32m      5\u001B[0m \u001B[38;5;28;01mfrom\u001B[39;00m \u001B[38;5;21;01mfemwell\u001B[39;00m\u001B[38;5;21;01m.\u001B[39;00m\u001B[38;5;21;01mmesh\u001B[39;00m \u001B[38;5;28;01mimport\u001B[39;00m mesh_from_OrderedDict\n",
      "File \u001B[1;32m~\\PycharmProjects\\SC-generation-stimulation\\venv\\lib\\site-packages\\skfem\\__init__.py:4\u001B[0m\n\u001B[0;32m      1\u001B[0m \u001B[38;5;124;03m\"\"\"Support for wildcard import.\"\"\"\u001B[39;00m\n\u001B[0;32m      3\u001B[0m \u001B[38;5;28;01mfrom\u001B[39;00m \u001B[38;5;21;01mskfem\u001B[39;00m\u001B[38;5;21;01m.\u001B[39;00m\u001B[38;5;21;01mmesh\u001B[39;00m \u001B[38;5;28;01mimport\u001B[39;00m \u001B[38;5;241m*\u001B[39m  \u001B[38;5;66;03m# noqa\u001B[39;00m\n\u001B[1;32m----> 4\u001B[0m \u001B[38;5;28;01mfrom\u001B[39;00m \u001B[38;5;21;01mskfem\u001B[39;00m\u001B[38;5;21;01m.\u001B[39;00m\u001B[38;5;21;01massembly\u001B[39;00m \u001B[38;5;28;01mimport\u001B[39;00m \u001B[38;5;241m*\u001B[39m  \u001B[38;5;66;03m# noqa\u001B[39;00m\n\u001B[0;32m      5\u001B[0m \u001B[38;5;28;01mfrom\u001B[39;00m \u001B[38;5;21;01mskfem\u001B[39;00m\u001B[38;5;21;01m.\u001B[39;00m\u001B[38;5;21;01mmapping\u001B[39;00m \u001B[38;5;28;01mimport\u001B[39;00m \u001B[38;5;241m*\u001B[39m  \u001B[38;5;66;03m# noqa\u001B[39;00m\n\u001B[0;32m      6\u001B[0m \u001B[38;5;28;01mfrom\u001B[39;00m \u001B[38;5;21;01mskfem\u001B[39;00m\u001B[38;5;21;01m.\u001B[39;00m\u001B[38;5;21;01melement\u001B[39;00m \u001B[38;5;28;01mimport\u001B[39;00m \u001B[38;5;241m*\u001B[39m  \u001B[38;5;66;03m# noqa\u001B[39;00m\n",
      "File \u001B[1;32m~\\PycharmProjects\\SC-generation-stimulation\\venv\\lib\\site-packages\\skfem\\assembly\\__init__.py:54\u001B[0m\n\u001B[0;32m     51\u001B[0m \u001B[38;5;28;01mfrom\u001B[39;00m \u001B[38;5;21;01mtyping\u001B[39;00m \u001B[38;5;28;01mimport\u001B[39;00m Any\n\u001B[0;32m     52\u001B[0m \u001B[38;5;28;01mfrom\u001B[39;00m \u001B[38;5;21;01mitertools\u001B[39;00m \u001B[38;5;28;01mimport\u001B[39;00m product\n\u001B[1;32m---> 54\u001B[0m \u001B[38;5;28;01mfrom\u001B[39;00m \u001B[38;5;21;01m.\u001B[39;00m\u001B[38;5;21;01mbasis\u001B[39;00m \u001B[38;5;28;01mimport\u001B[39;00m (Basis, CellBasis, FacetBasis, BoundaryFacetBasis,\n\u001B[0;32m     55\u001B[0m                     InteriorFacetBasis)\n\u001B[0;32m     56\u001B[0m \u001B[38;5;28;01mfrom\u001B[39;00m \u001B[38;5;21;01m.\u001B[39;00m\u001B[38;5;21;01mbasis\u001B[39;00m \u001B[38;5;28;01mimport\u001B[39;00m InteriorBasis, ExteriorFacetBasis  \u001B[38;5;66;03m# backwards compatibility\u001B[39;00m\n\u001B[0;32m     57\u001B[0m \u001B[38;5;28;01mfrom\u001B[39;00m \u001B[38;5;21;01m.\u001B[39;00m\u001B[38;5;21;01mdofs\u001B[39;00m \u001B[38;5;28;01mimport\u001B[39;00m Dofs, DofsView\n",
      "File \u001B[1;32m~\\PycharmProjects\\SC-generation-stimulation\\venv\\lib\\site-packages\\skfem\\assembly\\basis\\__init__.py:1\u001B[0m\n\u001B[1;32m----> 1\u001B[0m \u001B[38;5;28;01mfrom\u001B[39;00m \u001B[38;5;21;01m.\u001B[39;00m\u001B[38;5;21;01mabstract_basis\u001B[39;00m \u001B[38;5;28;01mimport\u001B[39;00m AbstractBasis  \u001B[38;5;66;03m# noqa\u001B[39;00m\n\u001B[0;32m      2\u001B[0m \u001B[38;5;28;01mfrom\u001B[39;00m \u001B[38;5;21;01m.\u001B[39;00m\u001B[38;5;21;01mcell_basis\u001B[39;00m \u001B[38;5;28;01mimport\u001B[39;00m CellBasis  \u001B[38;5;66;03m# noqa\u001B[39;00m\n\u001B[0;32m      3\u001B[0m \u001B[38;5;28;01mfrom\u001B[39;00m \u001B[38;5;21;01m.\u001B[39;00m\u001B[38;5;21;01mfacet_basis\u001B[39;00m \u001B[38;5;28;01mimport\u001B[39;00m FacetBasis  \u001B[38;5;66;03m# noqa\u001B[39;00m\n",
      "File \u001B[1;32m~\\PycharmProjects\\SC-generation-stimulation\\venv\\lib\\site-packages\\skfem\\assembly\\basis\\abstract_basis.py:11\u001B[0m\n\u001B[0;32m      8\u001B[0m \u001B[38;5;28;01mfrom\u001B[39;00m \u001B[38;5;21;01mskfem\u001B[39;00m\u001B[38;5;21;01m.\u001B[39;00m\u001B[38;5;21;01massembly\u001B[39;00m\u001B[38;5;21;01m.\u001B[39;00m\u001B[38;5;21;01mdofs\u001B[39;00m \u001B[38;5;28;01mimport\u001B[39;00m Dofs\n\u001B[0;32m      9\u001B[0m \u001B[38;5;28;01mfrom\u001B[39;00m \u001B[38;5;21;01mskfem\u001B[39;00m\u001B[38;5;21;01m.\u001B[39;00m\u001B[38;5;21;01melement\u001B[39;00m \u001B[38;5;28;01mimport\u001B[39;00m (DiscreteField, Element, ElementComposite,\n\u001B[0;32m     10\u001B[0m                            ElementVector)\n\u001B[1;32m---> 11\u001B[0m \u001B[38;5;28;01mfrom\u001B[39;00m \u001B[38;5;21;01mskfem\u001B[39;00m\u001B[38;5;21;01m.\u001B[39;00m\u001B[38;5;21;01mmapping\u001B[39;00m \u001B[38;5;28;01mimport\u001B[39;00m Mapping\n\u001B[0;32m     12\u001B[0m \u001B[38;5;28;01mfrom\u001B[39;00m \u001B[38;5;21;01mskfem\u001B[39;00m\u001B[38;5;21;01m.\u001B[39;00m\u001B[38;5;21;01mmesh\u001B[39;00m \u001B[38;5;28;01mimport\u001B[39;00m Mesh\n\u001B[0;32m     13\u001B[0m \u001B[38;5;28;01mfrom\u001B[39;00m \u001B[38;5;21;01mskfem\u001B[39;00m\u001B[38;5;21;01m.\u001B[39;00m\u001B[38;5;21;01mquadrature\u001B[39;00m \u001B[38;5;28;01mimport\u001B[39;00m get_quadrature\n",
      "File \u001B[1;32m<frozen importlib._bootstrap>:1027\u001B[0m, in \u001B[0;36m_find_and_load\u001B[1;34m(name, import_)\u001B[0m\n",
      "File \u001B[1;32m<frozen importlib._bootstrap>:1006\u001B[0m, in \u001B[0;36m_find_and_load_unlocked\u001B[1;34m(name, import_)\u001B[0m\n",
      "File \u001B[1;32m<frozen importlib._bootstrap>:688\u001B[0m, in \u001B[0;36m_load_unlocked\u001B[1;34m(spec)\u001B[0m\n",
      "File \u001B[1;32m<frozen importlib._bootstrap_external>:879\u001B[0m, in \u001B[0;36mexec_module\u001B[1;34m(self, module)\u001B[0m\n",
      "File \u001B[1;32m<frozen importlib._bootstrap_external>:975\u001B[0m, in \u001B[0;36mget_code\u001B[1;34m(self, fullname)\u001B[0m\n",
      "File \u001B[1;32m<frozen importlib._bootstrap_external>:1073\u001B[0m, in \u001B[0;36mget_data\u001B[1;34m(self, path)\u001B[0m\n",
      "\u001B[1;31mKeyboardInterrupt\u001B[0m: "
     ]
    }
   ],
   "source": [
    "import math\n",
    "\n",
    "from skfem import Basis, ElementTriP0\n",
    "from tqdm import tqdm\n",
    "from femwell.mesh import mesh_from_OrderedDict\n",
    "from skfem.io import from_meshio\n",
    "from femwell.visualization import plot_domains\n",
    "import shapely\n",
    "from femwell.maxwell.waveguide import compute_modes\n",
    "from refractive_index import n_SiO2, n_Air, n_LNOI\n",
    "from collections import OrderedDict\n",
    "import scipy\n",
    "import numpy as np\n",
    "from matplotlib import pyplot as plt\n",
    "from shapely.ops import unary_union\n",
    "from shapely.geometry import Polygon\n",
    "\n",
    "wavelength_range = [310, 1500]\n",
    "wavelegnth_step = 20  # 50nm steps\n",
    "\n",
    "n_core = n_LNOI\n",
    "n_ridge = n_LNOI\n",
    "n_buffer = n_SiO2\n",
    "n_air = n_Air\n",
    "\n",
    "# waveguide parameters\n",
    "width = 0.7  # um\n",
    "total_height = 0.4  # um\n",
    "ridge_height = 0.25\n",
    "box_height = 3\n",
    "\n",
    "triangle_height = 0.25\n",
    "triangle_width = triangle_height/ math.tan(60 * math.pi /180)\n",
    "\n",
    "\n",
    "# Construct waveguide geometry\n",
    "core_trapiz = Polygon([(width/2 + triangle_width,0 ),(-width/2 - triangle_width, 0),(-width/2, triangle_height) , (+width/2, triangle_height)])\n",
    "core_box = shapely.geometry.box(-(width/2 + triangle_width), -0.15, (width/2 + triangle_width), 0)\n",
    "core = unary_union([core_trapiz, core_box])\n",
    "\n",
    "ridge = shapely.geometry.box(-box_height, -0.15,box_height , 0)\n",
    "\n",
    "buffer = shapely.geometry.box(-box_height,-box_height/2,box_height,-0.15)\n",
    "air = shapely.geometry.box(-box_height,-box_height/2,box_height,box_height*1.5)\n",
    "\n",
    "\n",
    "polygon = OrderedDict(\n",
    "    core = core,\n",
    "    ridge = ridge,\n",
    "    buffer = buffer,\n",
    "    air= air\n",
    ")\n",
    "\n",
    "# Define material property and resolution of waveguide\n",
    "resolutions = dict(core={\"resolution\": 0.01, \"distance\": 0.1},\n",
    "                   ridge ={\"resolution\": 0.01, \"distance\": 0.1},\n",
    "                   buffer={\"resolution\": 0.15, \"distance\": 0.5},\n",
    "                   air={\"resolution\": 0.15, \"distance\": 0.5})\n",
    "\n",
    "n_dict = {\"core\": n_core, \"ridge\": n_ridge, \"buffer\": n_buffer, \"air\": n_air}\n",
    "\n",
    "mesh = from_meshio(mesh_from_OrderedDict(polygon, resolutions))\n",
    "mesh.draw().show()\n",
    "plot_domains(mesh)\n",
    "plt.show()"
   ],
   "metadata": {
    "collapsed": false,
    "ExecuteTime": {
     "end_time": "2024-01-10T05:27:35.387876Z",
     "start_time": "2024-01-10T05:27:34.728048400Z"
    }
   },
   "id": "fa7aaafcf8a49d8"
  },
  {
   "cell_type": "markdown",
   "source": [
    "Plot the effective refractive index and calculate the GVD and dispersion operator"
   ],
   "metadata": {
    "collapsed": false
   },
   "id": "53c5c6ceaaa8adb9"
  },
  {
   "cell_type": "code",
   "execution_count": null,
   "outputs": [],
   "source": [],
   "metadata": {
    "collapsed": false
   },
   "id": "5c93a5bfaafe06d"
  },
  {
   "cell_type": "markdown",
   "source": [
    "Propagate laser to the waveguide "
   ],
   "metadata": {
    "collapsed": false
   },
   "id": "72bb8db9bd006e8c"
  },
  {
   "cell_type": "code",
   "execution_count": 5,
   "outputs": [
    {
     "ename": "ImportError",
     "evalue": "DLL load failed while importing _pydfti: The specified module could not be found.",
     "output_type": "error",
     "traceback": [
      "\u001B[1;31m---------------------------------------------------------------------------\u001B[0m",
      "\u001B[1;31mImportError\u001B[0m                               Traceback (most recent call last)",
      "Cell \u001B[1;32mIn[5], line 1\u001B[0m\n\u001B[1;32m----> 1\u001B[0m \u001B[38;5;28;01mimport\u001B[39;00m \u001B[38;5;21;01mpynlo\u001B[39;00m\n\u001B[0;32m      2\u001B[0m \u001B[38;5;28;01mfrom\u001B[39;00m \u001B[38;5;21;01mscipy\u001B[39;00m\u001B[38;5;21;01m.\u001B[39;00m\u001B[38;5;21;01mconstants\u001B[39;00m \u001B[38;5;28;01mimport\u001B[39;00m pi, c\n\u001B[0;32m      3\u001B[0m \u001B[38;5;124;03m\"\"\"\u001B[39;00m\n\u001B[0;32m      4\u001B[0m \u001B[38;5;124;03mWe start by initializing a hyperbolic secant pulse using one of the built-in\u001B[39;00m\n\u001B[0;32m      5\u001B[0m \u001B[38;5;124;03mpulse shapes of the `Pulse` class. The first few parameters constrain the\u001B[39;00m\n\u001B[1;32m   (...)\u001B[0m\n\u001B[0;32m      9\u001B[0m \n\u001B[0;32m     10\u001B[0m \u001B[38;5;124;03m\"\"\"\u001B[39;00m\n",
      "File \u001B[1;32m~\\PycharmProjects\\SC-generation-stimulation\\venv\\lib\\site-packages\\pynlo\\__init__.py:20\u001B[0m\n\u001B[0;32m     15\u001B[0m __all__ \u001B[38;5;241m=\u001B[39m [\u001B[38;5;124m\"\u001B[39m\u001B[38;5;124mlight\u001B[39m\u001B[38;5;124m\"\u001B[39m, \u001B[38;5;124m\"\u001B[39m\u001B[38;5;124mmedium\u001B[39m\u001B[38;5;124m\"\u001B[39m, \u001B[38;5;124m\"\u001B[39m\u001B[38;5;124mdevice\u001B[39m\u001B[38;5;124m\"\u001B[39m, \u001B[38;5;124m\"\u001B[39m\u001B[38;5;124mmodel\u001B[39m\u001B[38;5;124m\"\u001B[39m, \u001B[38;5;124m\"\u001B[39m\u001B[38;5;124mutility\u001B[39m\u001B[38;5;124m\"\u001B[39m]\n\u001B[0;32m     18\u001B[0m \u001B[38;5;66;03m# %% Imports\u001B[39;00m\n\u001B[1;32m---> 20\u001B[0m \u001B[38;5;28;01mfrom\u001B[39;00m \u001B[38;5;21;01mPyNLO\u001B[39;00m\u001B[38;5;21;01m.\u001B[39;00m\u001B[38;5;21;01mpynlo\u001B[39;00m \u001B[38;5;28;01mimport\u001B[39;00m light, medium, device, model, utility\n",
      "File \u001B[1;32m~\\PycharmProjects\\SC-generation-stimulation\\PyNLO\\pynlo\\__init__.py:20\u001B[0m\n\u001B[0;32m     15\u001B[0m __all__ \u001B[38;5;241m=\u001B[39m [\u001B[38;5;124m\"\u001B[39m\u001B[38;5;124mlight\u001B[39m\u001B[38;5;124m\"\u001B[39m, \u001B[38;5;124m\"\u001B[39m\u001B[38;5;124mmedium\u001B[39m\u001B[38;5;124m\"\u001B[39m, \u001B[38;5;124m\"\u001B[39m\u001B[38;5;124mdevice\u001B[39m\u001B[38;5;124m\"\u001B[39m, \u001B[38;5;124m\"\u001B[39m\u001B[38;5;124mmodel\u001B[39m\u001B[38;5;124m\"\u001B[39m, \u001B[38;5;124m\"\u001B[39m\u001B[38;5;124mutility\u001B[39m\u001B[38;5;124m\"\u001B[39m]\n\u001B[0;32m     18\u001B[0m \u001B[38;5;66;03m# %% Imports\u001B[39;00m\n\u001B[1;32m---> 20\u001B[0m \u001B[38;5;28;01mfrom\u001B[39;00m \u001B[38;5;21;01mPyNLO\u001B[39;00m\u001B[38;5;21;01m.\u001B[39;00m\u001B[38;5;21;01mpynlo\u001B[39;00m \u001B[38;5;28;01mimport\u001B[39;00m light, medium, device, model, utility\n",
      "File \u001B[1;32m~\\PycharmProjects\\SC-generation-stimulation\\PyNLO\\pynlo\\light.py:24\u001B[0m\n\u001B[0;32m     21\u001B[0m \u001B[38;5;28;01mimport\u001B[39;00m \u001B[38;5;21;01mnumpy\u001B[39;00m \u001B[38;5;28;01mas\u001B[39;00m \u001B[38;5;21;01mnp\u001B[39;00m\n\u001B[0;32m     22\u001B[0m \u001B[38;5;28;01mfrom\u001B[39;00m \u001B[38;5;21;01mscipy\u001B[39;00m\u001B[38;5;21;01m.\u001B[39;00m\u001B[38;5;21;01mconstants\u001B[39;00m \u001B[38;5;28;01mimport\u001B[39;00m pi\n\u001B[1;32m---> 24\u001B[0m \u001B[38;5;28;01mfrom\u001B[39;00m \u001B[38;5;21;01mpynlo\u001B[39;00m\u001B[38;5;21;01m.\u001B[39;00m\u001B[38;5;21;01mutility\u001B[39;00m \u001B[38;5;28;01mimport\u001B[39;00m TFGrid, fft, resample_v, resample_t\n\u001B[0;32m     25\u001B[0m \u001B[38;5;28;01mfrom\u001B[39;00m \u001B[38;5;21;01mpynlo\u001B[39;00m\u001B[38;5;21;01m.\u001B[39;00m\u001B[38;5;21;01mutility\u001B[39;00m\u001B[38;5;21;01m.\u001B[39;00m\u001B[38;5;21;01mmisc\u001B[39;00m \u001B[38;5;28;01mimport\u001B[39;00m ndproperty, replace\n\u001B[0;32m     28\u001B[0m \u001B[38;5;66;03m# %% Collections\u001B[39;00m\n",
      "File \u001B[1;32m~\\PycharmProjects\\SC-generation-stimulation\\venv\\lib\\site-packages\\pynlo\\utility\\__init__.py:25\u001B[0m\n\u001B[0;32m     22\u001B[0m \u001B[38;5;28;01mimport\u001B[39;00m \u001B[38;5;21;01mnumpy\u001B[39;00m \u001B[38;5;28;01mas\u001B[39;00m \u001B[38;5;21;01mnp\u001B[39;00m\n\u001B[0;32m     23\u001B[0m \u001B[38;5;28;01mfrom\u001B[39;00m \u001B[38;5;21;01mscipy\u001B[39;00m\u001B[38;5;21;01m.\u001B[39;00m\u001B[38;5;21;01mconstants\u001B[39;00m \u001B[38;5;28;01mimport\u001B[39;00m pi, h\n\u001B[1;32m---> 25\u001B[0m \u001B[38;5;28;01mfrom\u001B[39;00m \u001B[38;5;21;01mpynlo\u001B[39;00m\u001B[38;5;21;01m.\u001B[39;00m\u001B[38;5;21;01mutility\u001B[39;00m \u001B[38;5;28;01mimport\u001B[39;00m chi1, chi2, chi3, fft\n\u001B[0;32m     28\u001B[0m \u001B[38;5;66;03m# %% Collections\u001B[39;00m\n\u001B[0;32m     30\u001B[0m _ResampledV \u001B[38;5;241m=\u001B[39m collections\u001B[38;5;241m.\u001B[39mnamedtuple(\u001B[38;5;124m\"\u001B[39m\u001B[38;5;124mResampledV\u001B[39m\u001B[38;5;124m\"\u001B[39m, [\u001B[38;5;124m\"\u001B[39m\u001B[38;5;124mv_grid\u001B[39m\u001B[38;5;124m\"\u001B[39m, \u001B[38;5;124m\"\u001B[39m\u001B[38;5;124mf_v\u001B[39m\u001B[38;5;124m\"\u001B[39m, \u001B[38;5;124m\"\u001B[39m\u001B[38;5;124mdv\u001B[39m\u001B[38;5;124m\"\u001B[39m, \u001B[38;5;124m\"\u001B[39m\u001B[38;5;124mdt\u001B[39m\u001B[38;5;124m\"\u001B[39m])\n",
      "File \u001B[1;32m~\\PycharmProjects\\SC-generation-stimulation\\venv\\lib\\site-packages\\pynlo\\utility\\chi3.py:16\u001B[0m\n\u001B[0;32m     13\u001B[0m \u001B[38;5;28;01mimport\u001B[39;00m \u001B[38;5;21;01mnumpy\u001B[39;00m \u001B[38;5;28;01mas\u001B[39;00m \u001B[38;5;21;01mnp\u001B[39;00m\n\u001B[0;32m     14\u001B[0m \u001B[38;5;28;01mfrom\u001B[39;00m \u001B[38;5;21;01mscipy\u001B[39;00m\u001B[38;5;21;01m.\u001B[39;00m\u001B[38;5;21;01mconstants\u001B[39;00m \u001B[38;5;28;01mimport\u001B[39;00m pi, c, epsilon_0 \u001B[38;5;28;01mas\u001B[39;00m e0\n\u001B[1;32m---> 16\u001B[0m \u001B[38;5;28;01mfrom\u001B[39;00m \u001B[38;5;21;01mPyNLO\u001B[39;00m\u001B[38;5;21;01m.\u001B[39;00m\u001B[38;5;21;01mpynlo\u001B[39;00m\u001B[38;5;21;01m.\u001B[39;00m\u001B[38;5;21;01mutility\u001B[39;00m \u001B[38;5;28;01mimport\u001B[39;00m fft\n\u001B[0;32m     19\u001B[0m \u001B[38;5;66;03m#%% Converters\u001B[39;00m\n\u001B[0;32m     20\u001B[0m \n\u001B[0;32m     21\u001B[0m \u001B[38;5;66;03m#---- Effective Nonlinearities g3 and gamma\u001B[39;00m\n\u001B[0;32m     22\u001B[0m \u001B[38;5;28;01mdef\u001B[39;00m \u001B[38;5;21mgamma_to_g3\u001B[39m(v_grid, gamma, t_shock\u001B[38;5;241m=\u001B[39m\u001B[38;5;28;01mNone\u001B[39;00m):\n",
      "File \u001B[1;32m~\\PycharmProjects\\SC-generation-stimulation\\PyNLO\\pynlo\\utility\\__init__.py:25\u001B[0m\n\u001B[0;32m     22\u001B[0m \u001B[38;5;28;01mimport\u001B[39;00m \u001B[38;5;21;01mnumpy\u001B[39;00m \u001B[38;5;28;01mas\u001B[39;00m \u001B[38;5;21;01mnp\u001B[39;00m\n\u001B[0;32m     23\u001B[0m \u001B[38;5;28;01mfrom\u001B[39;00m \u001B[38;5;21;01mscipy\u001B[39;00m\u001B[38;5;21;01m.\u001B[39;00m\u001B[38;5;21;01mconstants\u001B[39;00m \u001B[38;5;28;01mimport\u001B[39;00m pi, h\n\u001B[1;32m---> 25\u001B[0m \u001B[38;5;28;01mfrom\u001B[39;00m \u001B[38;5;21;01mpynlo\u001B[39;00m\u001B[38;5;21;01m.\u001B[39;00m\u001B[38;5;21;01mutility\u001B[39;00m \u001B[38;5;28;01mimport\u001B[39;00m chi1, chi2, chi3, fft\n\u001B[0;32m     28\u001B[0m \u001B[38;5;66;03m# %% Collections\u001B[39;00m\n\u001B[0;32m     30\u001B[0m _ResampledV \u001B[38;5;241m=\u001B[39m collections\u001B[38;5;241m.\u001B[39mnamedtuple(\u001B[38;5;124m\"\u001B[39m\u001B[38;5;124mResampledV\u001B[39m\u001B[38;5;124m\"\u001B[39m, [\u001B[38;5;124m\"\u001B[39m\u001B[38;5;124mv_grid\u001B[39m\u001B[38;5;124m\"\u001B[39m, \u001B[38;5;124m\"\u001B[39m\u001B[38;5;124mf_v\u001B[39m\u001B[38;5;124m\"\u001B[39m, \u001B[38;5;124m\"\u001B[39m\u001B[38;5;124mdv\u001B[39m\u001B[38;5;124m\"\u001B[39m, \u001B[38;5;124m\"\u001B[39m\u001B[38;5;124mdt\u001B[39m\u001B[38;5;124m\"\u001B[39m])\n",
      "File \u001B[1;32m~\\PycharmProjects\\SC-generation-stimulation\\venv\\lib\\site-packages\\pynlo\\utility\\fft.py:14\u001B[0m\n\u001B[0;32m     11\u001B[0m \u001B[38;5;66;03m# %% Imports\u001B[39;00m\n\u001B[0;32m     13\u001B[0m \u001B[38;5;28;01mfrom\u001B[39;00m \u001B[38;5;21;01mscipy\u001B[39;00m\u001B[38;5;21;01m.\u001B[39;00m\u001B[38;5;21;01mfft\u001B[39;00m \u001B[38;5;28;01mimport\u001B[39;00m next_fast_len, fftshift \u001B[38;5;28;01mas\u001B[39;00m _fftshift, ifftshift \u001B[38;5;28;01mas\u001B[39;00m _ifftshift\n\u001B[1;32m---> 14\u001B[0m \u001B[38;5;28;01mimport\u001B[39;00m \u001B[38;5;21;01mmkl_fft\u001B[39;00m\n\u001B[0;32m     17\u001B[0m \u001B[38;5;66;03m# %% Helper Functions\u001B[39;00m\n\u001B[0;32m     18\u001B[0m \n\u001B[0;32m     19\u001B[0m \u001B[38;5;66;03m#---- FFT Shifts\u001B[39;00m\n\u001B[0;32m     20\u001B[0m \u001B[38;5;28;01mdef\u001B[39;00m \u001B[38;5;21mfftshift\u001B[39m(x, axis\u001B[38;5;241m=\u001B[39m\u001B[38;5;241m-\u001B[39m\u001B[38;5;241m1\u001B[39m):\n",
      "File \u001B[1;32m~\\PycharmProjects\\SC-generation-stimulation\\venv\\lib\\site-packages\\mkl_fft\\__init__.py:27\u001B[0m\n\u001B[0;32m      1\u001B[0m \u001B[38;5;66;03m#!/usr/bin/env python\u001B[39;00m\n\u001B[0;32m      2\u001B[0m \u001B[38;5;66;03m# Copyright (c) 2017-2019, Intel Corporation\u001B[39;00m\n\u001B[0;32m      3\u001B[0m \u001B[38;5;66;03m#\u001B[39;00m\n\u001B[1;32m   (...)\u001B[0m\n\u001B[0;32m     24\u001B[0m \u001B[38;5;66;03m# OR TORT (INCLUDING NEGLIGENCE OR OTHERWISE) ARISING IN ANY WAY OUT OF THE USE\u001B[39;00m\n\u001B[0;32m     25\u001B[0m \u001B[38;5;66;03m# OF THIS SOFTWARE, EVEN IF ADVISED OF THE POSSIBILITY OF SUCH DAMAGE.\u001B[39;00m\n\u001B[1;32m---> 27\u001B[0m \u001B[38;5;28;01mfrom\u001B[39;00m \u001B[38;5;21;01m.\u001B[39;00m\u001B[38;5;21;01m_pydfti\u001B[39;00m \u001B[38;5;28;01mimport\u001B[39;00m (fft, ifft, fft2, ifft2, fftn, ifftn, rfft, irfft,\n\u001B[0;32m     28\u001B[0m                       rfft_numpy, irfft_numpy, rfftn_numpy, irfftn_numpy)\n\u001B[0;32m     30\u001B[0m \u001B[38;5;28;01mfrom\u001B[39;00m \u001B[38;5;21;01m.\u001B[39;00m\u001B[38;5;21;01m_version\u001B[39;00m \u001B[38;5;28;01mimport\u001B[39;00m __version__\n\u001B[0;32m     31\u001B[0m \u001B[38;5;28;01mimport\u001B[39;00m \u001B[38;5;21;01mmkl_fft\u001B[39;00m\u001B[38;5;21;01m.\u001B[39;00m\u001B[38;5;21;01minterfaces\u001B[39;00m\n",
      "\u001B[1;31mImportError\u001B[0m: DLL load failed while importing _pydfti: The specified module could not be found."
     ]
    }
   ],
   "source": [
    "\n",
    "import pynlo\n",
    "from scipy.constants import pi, c\n",
    "\"\"\"\n",
    "We start by initializing a hyperbolic secant pulse using one of the built-in\n",
    "pulse shapes of the `Pulse` class. The first few parameters constrain the\n",
    "frequency grid, the number of points and the frequency range, while the last\n",
    "three set the initial pulse properties, its center frequency, pulse energy, and\n",
    "pulse width.\n",
    "\n",
    "\"\"\"\n",
    "def dB(num):\n",
    "    with np.errstate(divide='ignore'):\n",
    "        return 10 * np.log10(np.abs(num)**2)\n",
    "    \n",
    "n_points = 2**14\n",
    "center_wl = 950 *1e-9\n",
    "bandwidth = 4.31 *1e-9 #https://www.rp-photonics.com/bandwidth_limited_pulses.html\n",
    "e_p = 13e-12       # energy per pulse in joules\n",
    "t_fwhm = 220e-15  * np.sqrt(2)   # for sech, fwhm = 1.76 * pulse duration \n",
    "\n",
    "f_min = c/(center_wl+bandwidth)   # c / l\n",
    "f_max = c/(center_wl-bandwidth)    # c / l\n",
    "f0 = c/center_wl       # c / 835 nm\n",
    "\n",
    "\n",
    "pulse = pynlo.light.Pulse.Sech(n_points, f_min, f_max, f0,t_fwhm, e_p = e_p, alias=2) # alias = number of harmonic support by the real-valued time domain grid\n",
    "\n",
    "dbm = dB(pulse.a_v)\n",
    "fig = plt.figure(figsize=(8, 8))\n",
    "ax0 = plt.subplot2grid((3, 2), (0, 0), rowspan=1)\n",
    "ax0.set_xlabel('frequency (THz)')\n",
    "ax0.plot(1e-12*pulse.v_grid, dbm, color=\"b\")\n",
    "plt.show()"
   ],
   "metadata": {
    "collapsed": false,
    "ExecuteTime": {
     "end_time": "2024-01-10T05:30:44.092767Z",
     "start_time": "2024-01-10T05:30:43.271346900Z"
    }
   },
   "id": "8b6b00685891ff29"
  },
  {
   "cell_type": "code",
   "execution_count": null,
   "outputs": [],
   "source": [],
   "metadata": {
    "collapsed": false
   },
   "id": "1b3711df22458553"
  }
 ],
 "metadata": {
  "kernelspec": {
   "display_name": "Python 3",
   "language": "python",
   "name": "python3"
  },
  "language_info": {
   "codemirror_mode": {
    "name": "ipython",
    "version": 2
   },
   "file_extension": ".py",
   "mimetype": "text/x-python",
   "name": "python",
   "nbconvert_exporter": "python",
   "pygments_lexer": "ipython2",
   "version": "2.7.6"
  }
 },
 "nbformat": 4,
 "nbformat_minor": 5
}
